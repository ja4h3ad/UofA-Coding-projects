{
 "cells": [
  {
   "cell_type": "markdown",
   "id": "c9db89e8",
   "metadata": {},
   "source": [
    "# Twitter customer care dataset"
   ]
  },
  {
   "cell_type": "code",
   "execution_count": null,
   "id": "8eb65542",
   "metadata": {},
   "outputs": [],
   "source": [
    "import pandas as pd\n",
    "from tqdm.notebook import tqdm\n",
    "tqdm.pandas()\n",
    "import numpy as np\n",
    "import matplotlib.pyplot as plt\n",
    "import seaborn as sns\n",
    "plt.style.use('ggplot')\n",
    "import nltk\n",
    "import spacy\n",
    "nlp = spacy.load(\"en_core_web_sm\")\n",
    "from spacymoji import Emoji\n",
    "emoji = Emoji(nlp)\n",
    "# nlp.add_pipe(emoji, first=True)\n",
    "from nltk.sentiment.vader import SentimentIntensityAnalyzer\n",
    "import re\n",
    "import os\n",
    "from datetime import datetime\n",
    "from tqdm.notebook import tqdm\n",
    "tqdm.pandas()\n",
    "from collections import Counter\n",
    "from sklearn.feature_extraction.text import CountVectorizer"
   ]
  },
  {
   "cell_type": "code",
   "execution_count": 2,
   "id": "b17c179f",
   "metadata": {},
   "outputs": [
    {
     "data": {
      "text/plain": [
       "['twcs2.csv', '.DS_Store', 'twcs.csv', 'sample.csv', 'twcs.csv.zip']"
      ]
     },
     "execution_count": 2,
     "metadata": {},
     "output_type": "execute_result"
    }
   ],
   "source": [
    "os.chdir('/Users/tdentry/repos/vonage')\n",
    "os.listdir('kaggle_customer_support') # ('kaggle_customer_support/')"
   ]
  },
  {
   "cell_type": "markdown",
   "id": "cdbe438b",
   "metadata": {},
   "source": [
    "# The goal of this exercise:\n",
    "1. Parse the data set into similarly themed conversational interactions (to what our Care organization might see with customers)\n",
    "2. Evaluate the dataset with two different models (transformer and NLTK.vader), both of which are unsupervised transfer learning models for sentiment - with the goal of seeing how much the models concur\n"
   ]
  },
  {
   "cell_type": "markdown",
   "id": "c5db4f42",
   "metadata": {},
   "source": [
    "### create dataframe with dataset consisting of customer support tweets"
   ]
  },
  {
   "cell_type": "code",
   "execution_count": 3,
   "id": "5585afaf",
   "metadata": {},
   "outputs": [],
   "source": [
    "tweets = pd.read_csv('kaggle_customer_support/twcs.csv')"
   ]
  },
  {
   "cell_type": "code",
   "execution_count": 4,
   "id": "4aaa72d8",
   "metadata": {},
   "outputs": [
    {
     "data": {
      "text/plain": [
       "(2811774, 7)"
      ]
     },
     "execution_count": 4,
     "metadata": {},
     "output_type": "execute_result"
    }
   ],
   "source": [
    "tweets.shape"
   ]
  },
  {
   "cell_type": "code",
   "execution_count": 5,
   "id": "0b728d72",
   "metadata": {},
   "outputs": [
    {
     "data": {
      "text/html": [
       "<div>\n",
       "<style scoped>\n",
       "    .dataframe tbody tr th:only-of-type {\n",
       "        vertical-align: middle;\n",
       "    }\n",
       "\n",
       "    .dataframe tbody tr th {\n",
       "        vertical-align: top;\n",
       "    }\n",
       "\n",
       "    .dataframe thead th {\n",
       "        text-align: right;\n",
       "    }\n",
       "</style>\n",
       "<table border=\"1\" class=\"dataframe\">\n",
       "  <thead>\n",
       "    <tr style=\"text-align: right;\">\n",
       "      <th></th>\n",
       "      <th>tweet_id</th>\n",
       "      <th>author_id</th>\n",
       "      <th>inbound</th>\n",
       "      <th>created_at</th>\n",
       "      <th>text</th>\n",
       "      <th>response_tweet_id</th>\n",
       "      <th>in_response_to_tweet_id</th>\n",
       "    </tr>\n",
       "  </thead>\n",
       "  <tbody>\n",
       "    <tr>\n",
       "      <th>0</th>\n",
       "      <td>1</td>\n",
       "      <td>sprintcare</td>\n",
       "      <td>False</td>\n",
       "      <td>Tue Oct 31 22:10:47 +0000 2017</td>\n",
       "      <td>@115712 I understand. I would like to assist y...</td>\n",
       "      <td>2</td>\n",
       "      <td>3.0</td>\n",
       "    </tr>\n",
       "    <tr>\n",
       "      <th>1</th>\n",
       "      <td>2</td>\n",
       "      <td>115712</td>\n",
       "      <td>True</td>\n",
       "      <td>Tue Oct 31 22:11:45 +0000 2017</td>\n",
       "      <td>@sprintcare and how do you propose we do that</td>\n",
       "      <td>NaN</td>\n",
       "      <td>1.0</td>\n",
       "    </tr>\n",
       "    <tr>\n",
       "      <th>2</th>\n",
       "      <td>3</td>\n",
       "      <td>115712</td>\n",
       "      <td>True</td>\n",
       "      <td>Tue Oct 31 22:08:27 +0000 2017</td>\n",
       "      <td>@sprintcare I have sent several private messag...</td>\n",
       "      <td>1</td>\n",
       "      <td>4.0</td>\n",
       "    </tr>\n",
       "    <tr>\n",
       "      <th>3</th>\n",
       "      <td>4</td>\n",
       "      <td>sprintcare</td>\n",
       "      <td>False</td>\n",
       "      <td>Tue Oct 31 21:54:49 +0000 2017</td>\n",
       "      <td>@115712 Please send us a Private Message so th...</td>\n",
       "      <td>3</td>\n",
       "      <td>5.0</td>\n",
       "    </tr>\n",
       "    <tr>\n",
       "      <th>4</th>\n",
       "      <td>5</td>\n",
       "      <td>115712</td>\n",
       "      <td>True</td>\n",
       "      <td>Tue Oct 31 21:49:35 +0000 2017</td>\n",
       "      <td>@sprintcare I did.</td>\n",
       "      <td>4</td>\n",
       "      <td>6.0</td>\n",
       "    </tr>\n",
       "    <tr>\n",
       "      <th>5</th>\n",
       "      <td>6</td>\n",
       "      <td>sprintcare</td>\n",
       "      <td>False</td>\n",
       "      <td>Tue Oct 31 21:46:24 +0000 2017</td>\n",
       "      <td>@115712 Can you please send us a private messa...</td>\n",
       "      <td>5,7</td>\n",
       "      <td>8.0</td>\n",
       "    </tr>\n",
       "    <tr>\n",
       "      <th>6</th>\n",
       "      <td>8</td>\n",
       "      <td>115712</td>\n",
       "      <td>True</td>\n",
       "      <td>Tue Oct 31 21:45:10 +0000 2017</td>\n",
       "      <td>@sprintcare is the worst customer service</td>\n",
       "      <td>9,6,10</td>\n",
       "      <td>NaN</td>\n",
       "    </tr>\n",
       "    <tr>\n",
       "      <th>7</th>\n",
       "      <td>11</td>\n",
       "      <td>sprintcare</td>\n",
       "      <td>False</td>\n",
       "      <td>Tue Oct 31 22:10:35 +0000 2017</td>\n",
       "      <td>@115713 This is saddening to hear. Please shoo...</td>\n",
       "      <td>NaN</td>\n",
       "      <td>12.0</td>\n",
       "    </tr>\n",
       "    <tr>\n",
       "      <th>8</th>\n",
       "      <td>12</td>\n",
       "      <td>115713</td>\n",
       "      <td>True</td>\n",
       "      <td>Tue Oct 31 22:04:47 +0000 2017</td>\n",
       "      <td>@sprintcare You gonna magically change your co...</td>\n",
       "      <td>11,13,14</td>\n",
       "      <td>15.0</td>\n",
       "    </tr>\n",
       "    <tr>\n",
       "      <th>9</th>\n",
       "      <td>15</td>\n",
       "      <td>sprintcare</td>\n",
       "      <td>False</td>\n",
       "      <td>Tue Oct 31 20:03:31 +0000 2017</td>\n",
       "      <td>@115713 We understand your concerns and we'd l...</td>\n",
       "      <td>12</td>\n",
       "      <td>16.0</td>\n",
       "    </tr>\n",
       "  </tbody>\n",
       "</table>\n",
       "</div>"
      ],
      "text/plain": [
       "   tweet_id   author_id  inbound                      created_at  \\\n",
       "0         1  sprintcare    False  Tue Oct 31 22:10:47 +0000 2017   \n",
       "1         2      115712     True  Tue Oct 31 22:11:45 +0000 2017   \n",
       "2         3      115712     True  Tue Oct 31 22:08:27 +0000 2017   \n",
       "3         4  sprintcare    False  Tue Oct 31 21:54:49 +0000 2017   \n",
       "4         5      115712     True  Tue Oct 31 21:49:35 +0000 2017   \n",
       "5         6  sprintcare    False  Tue Oct 31 21:46:24 +0000 2017   \n",
       "6         8      115712     True  Tue Oct 31 21:45:10 +0000 2017   \n",
       "7        11  sprintcare    False  Tue Oct 31 22:10:35 +0000 2017   \n",
       "8        12      115713     True  Tue Oct 31 22:04:47 +0000 2017   \n",
       "9        15  sprintcare    False  Tue Oct 31 20:03:31 +0000 2017   \n",
       "\n",
       "                                                text response_tweet_id  \\\n",
       "0  @115712 I understand. I would like to assist y...                 2   \n",
       "1      @sprintcare and how do you propose we do that               NaN   \n",
       "2  @sprintcare I have sent several private messag...                 1   \n",
       "3  @115712 Please send us a Private Message so th...                 3   \n",
       "4                                 @sprintcare I did.                 4   \n",
       "5  @115712 Can you please send us a private messa...               5,7   \n",
       "6          @sprintcare is the worst customer service            9,6,10   \n",
       "7  @115713 This is saddening to hear. Please shoo...               NaN   \n",
       "8  @sprintcare You gonna magically change your co...          11,13,14   \n",
       "9  @115713 We understand your concerns and we'd l...                12   \n",
       "\n",
       "   in_response_to_tweet_id  \n",
       "0                      3.0  \n",
       "1                      1.0  \n",
       "2                      4.0  \n",
       "3                      5.0  \n",
       "4                      6.0  \n",
       "5                      8.0  \n",
       "6                      NaN  \n",
       "7                     12.0  \n",
       "8                     15.0  \n",
       "9                     16.0  "
      ]
     },
     "execution_count": 5,
     "metadata": {},
     "output_type": "execute_result"
    }
   ],
   "source": [
    "tweets.head(10) # Evaluate the dataset"
   ]
  },
  {
   "cell_type": "code",
   "execution_count": 6,
   "id": "51f6d019",
   "metadata": {},
   "outputs": [
    {
     "data": {
      "text/plain": [
       "'@sprintcare You gonna magically change your connectivity for me and my whole family ? 🤥 💯'"
      ]
     },
     "execution_count": 6,
     "metadata": {},
     "output_type": "execute_result"
    }
   ],
   "source": [
    "# Evaluate some data to understand the type of text inside of the cell\n",
    "tweets.iloc[8]['text']"
   ]
  },
  {
   "cell_type": "markdown",
   "id": "c68ec97c",
   "metadata": {},
   "source": [
    "### I am going to focus on the customer tweets only for this experiment "
   ]
  },
  {
   "cell_type": "code",
   "execution_count": 7,
   "id": "53fb55e9",
   "metadata": {},
   "outputs": [],
   "source": [
    "customer_view = tweets[tweets.inbound]"
   ]
  },
  {
   "cell_type": "code",
   "execution_count": 8,
   "id": "5eb2df1c",
   "metadata": {},
   "outputs": [
    {
     "data": {
      "text/plain": [
       "(1537843, 7)"
      ]
     },
     "execution_count": 8,
     "metadata": {},
     "output_type": "execute_result"
    }
   ],
   "source": [
    "customer_view.shape"
   ]
  },
  {
   "cell_type": "markdown",
   "id": "06fe8712",
   "metadata": {},
   "source": [
    "###  to isolate the dataset further, I am choosing to initially focus on a telecommunications sub dataset"
   ]
  },
  {
   "cell_type": "code",
   "execution_count": 9,
   "id": "5481cee4",
   "metadata": {},
   "outputs": [],
   "source": [
    "customer = customer_view[customer_view['text'].str.contains(\"@sprintcare\")]"
   ]
  },
  {
   "cell_type": "code",
   "execution_count": 10,
   "id": "bae5274f",
   "metadata": {},
   "outputs": [
    {
     "data": {
      "text/html": [
       "<div>\n",
       "<style scoped>\n",
       "    .dataframe tbody tr th:only-of-type {\n",
       "        vertical-align: middle;\n",
       "    }\n",
       "\n",
       "    .dataframe tbody tr th {\n",
       "        vertical-align: top;\n",
       "    }\n",
       "\n",
       "    .dataframe thead th {\n",
       "        text-align: right;\n",
       "    }\n",
       "</style>\n",
       "<table border=\"1\" class=\"dataframe\">\n",
       "  <thead>\n",
       "    <tr style=\"text-align: right;\">\n",
       "      <th></th>\n",
       "      <th>tweet_id</th>\n",
       "      <th>author_id</th>\n",
       "      <th>inbound</th>\n",
       "      <th>created_at</th>\n",
       "      <th>text</th>\n",
       "      <th>response_tweet_id</th>\n",
       "      <th>in_response_to_tweet_id</th>\n",
       "    </tr>\n",
       "  </thead>\n",
       "  <tbody>\n",
       "    <tr>\n",
       "      <th>1</th>\n",
       "      <td>2</td>\n",
       "      <td>115712</td>\n",
       "      <td>True</td>\n",
       "      <td>Tue Oct 31 22:11:45 +0000 2017</td>\n",
       "      <td>@sprintcare and how do you propose we do that</td>\n",
       "      <td>NaN</td>\n",
       "      <td>1.0</td>\n",
       "    </tr>\n",
       "    <tr>\n",
       "      <th>2</th>\n",
       "      <td>3</td>\n",
       "      <td>115712</td>\n",
       "      <td>True</td>\n",
       "      <td>Tue Oct 31 22:08:27 +0000 2017</td>\n",
       "      <td>@sprintcare I have sent several private messag...</td>\n",
       "      <td>1</td>\n",
       "      <td>4.0</td>\n",
       "    </tr>\n",
       "    <tr>\n",
       "      <th>4</th>\n",
       "      <td>5</td>\n",
       "      <td>115712</td>\n",
       "      <td>True</td>\n",
       "      <td>Tue Oct 31 21:49:35 +0000 2017</td>\n",
       "      <td>@sprintcare I did.</td>\n",
       "      <td>4</td>\n",
       "      <td>6.0</td>\n",
       "    </tr>\n",
       "    <tr>\n",
       "      <th>6</th>\n",
       "      <td>8</td>\n",
       "      <td>115712</td>\n",
       "      <td>True</td>\n",
       "      <td>Tue Oct 31 21:45:10 +0000 2017</td>\n",
       "      <td>@sprintcare is the worst customer service</td>\n",
       "      <td>9,6,10</td>\n",
       "      <td>NaN</td>\n",
       "    </tr>\n",
       "    <tr>\n",
       "      <th>8</th>\n",
       "      <td>12</td>\n",
       "      <td>115713</td>\n",
       "      <td>True</td>\n",
       "      <td>Tue Oct 31 22:04:47 +0000 2017</td>\n",
       "      <td>@sprintcare You gonna magically change your co...</td>\n",
       "      <td>11,13,14</td>\n",
       "      <td>15.0</td>\n",
       "    </tr>\n",
       "  </tbody>\n",
       "</table>\n",
       "</div>"
      ],
      "text/plain": [
       "   tweet_id author_id  inbound                      created_at  \\\n",
       "1         2    115712     True  Tue Oct 31 22:11:45 +0000 2017   \n",
       "2         3    115712     True  Tue Oct 31 22:08:27 +0000 2017   \n",
       "4         5    115712     True  Tue Oct 31 21:49:35 +0000 2017   \n",
       "6         8    115712     True  Tue Oct 31 21:45:10 +0000 2017   \n",
       "8        12    115713     True  Tue Oct 31 22:04:47 +0000 2017   \n",
       "\n",
       "                                                text response_tweet_id  \\\n",
       "1      @sprintcare and how do you propose we do that               NaN   \n",
       "2  @sprintcare I have sent several private messag...                 1   \n",
       "4                                 @sprintcare I did.                 4   \n",
       "6          @sprintcare is the worst customer service            9,6,10   \n",
       "8  @sprintcare You gonna magically change your co...          11,13,14   \n",
       "\n",
       "   in_response_to_tweet_id  \n",
       "1                      1.0  \n",
       "2                      4.0  \n",
       "4                      6.0  \n",
       "6                      NaN  \n",
       "8                     15.0  "
      ]
     },
     "execution_count": 10,
     "metadata": {},
     "output_type": "execute_result"
    }
   ],
   "source": [
    "customer.head()"
   ]
  },
  {
   "cell_type": "code",
   "execution_count": 11,
   "id": "6f9b5dd6",
   "metadata": {},
   "outputs": [],
   "source": [
    "### Keep the size of the dataset large so we have ample training and test data"
   ]
  },
  {
   "cell_type": "code",
   "execution_count": 12,
   "id": "f5ee414e",
   "metadata": {},
   "outputs": [],
   "source": [
    "result = customer.dtypes"
   ]
  },
  {
   "cell_type": "code",
   "execution_count": 13,
   "id": "291155f7",
   "metadata": {},
   "outputs": [
    {
     "data": {
      "text/plain": [
       "tweet_id                     int64\n",
       "author_id                   object\n",
       "inbound                       bool\n",
       "created_at                  object\n",
       "text                        object\n",
       "response_tweet_id           object\n",
       "in_response_to_tweet_id    float64\n",
       "dtype: object"
      ]
     },
     "execution_count": 13,
     "metadata": {},
     "output_type": "execute_result"
    }
   ],
   "source": [
    "result"
   ]
  },
  {
   "cell_type": "code",
   "execution_count": 14,
   "id": "c3b5dbec",
   "metadata": {},
   "outputs": [
    {
     "name": "stderr",
     "output_type": "stream",
     "text": [
      "/var/folders/pl/k80fpf9s4f9_3rp8hnpw5x0m0000gq/T/ipykernel_18056/1001897530.py:1: SettingWithCopyWarning: \n",
      "A value is trying to be set on a copy of a slice from a DataFrame.\n",
      "Try using .loc[row_indexer,col_indexer] = value instead\n",
      "\n",
      "See the caveats in the documentation: https://pandas.pydata.org/pandas-docs/stable/user_guide/indexing.html#returning-a-view-versus-a-copy\n",
      "  customer['created_at'] = pd.to_datetime(customer.created_at)\n"
     ]
    }
   ],
   "source": [
    "customer['created_at'] = pd.to_datetime(customer.created_at)\n",
    "customer= customer.sort_values(by = 'created_at')"
   ]
  },
  {
   "cell_type": "code",
   "execution_count": 15,
   "id": "3fe4e07c",
   "metadata": {},
   "outputs": [
    {
     "data": {
      "text/html": [
       "<div>\n",
       "<style scoped>\n",
       "    .dataframe tbody tr th:only-of-type {\n",
       "        vertical-align: middle;\n",
       "    }\n",
       "\n",
       "    .dataframe tbody tr th {\n",
       "        vertical-align: top;\n",
       "    }\n",
       "\n",
       "    .dataframe thead th {\n",
       "        text-align: right;\n",
       "    }\n",
       "</style>\n",
       "<table border=\"1\" class=\"dataframe\">\n",
       "  <thead>\n",
       "    <tr style=\"text-align: right;\">\n",
       "      <th></th>\n",
       "      <th>tweet_id</th>\n",
       "      <th>author_id</th>\n",
       "      <th>inbound</th>\n",
       "      <th>created_at</th>\n",
       "      <th>text</th>\n",
       "      <th>response_tweet_id</th>\n",
       "      <th>in_response_to_tweet_id</th>\n",
       "    </tr>\n",
       "  </thead>\n",
       "  <tbody>\n",
       "    <tr>\n",
       "      <th>1157188</th>\n",
       "      <td>1278330</td>\n",
       "      <td>419157</td>\n",
       "      <td>True</td>\n",
       "      <td>2011-11-28 18:39:16+00:00</td>\n",
       "      <td>@sprintcare I can not make any calls whats the...</td>\n",
       "      <td>1278329</td>\n",
       "      <td>NaN</td>\n",
       "    </tr>\n",
       "    <tr>\n",
       "      <th>1402575</th>\n",
       "      <td>1544038</td>\n",
       "      <td>478295</td>\n",
       "      <td>True</td>\n",
       "      <td>2015-09-16 02:57:20+00:00</td>\n",
       "      <td>@115714 @sprintcare I get almost no service af...</td>\n",
       "      <td>1544039,1544040,1544041,1544035</td>\n",
       "      <td>NaN</td>\n",
       "    </tr>\n",
       "    <tr>\n",
       "      <th>2582572</th>\n",
       "      <td>2753722</td>\n",
       "      <td>770395</td>\n",
       "      <td>True</td>\n",
       "      <td>2015-10-26 17:07:32+00:00</td>\n",
       "      <td>@sprintcare to replace this one without paying...</td>\n",
       "      <td>2753721</td>\n",
       "      <td>2753723.0</td>\n",
       "    </tr>\n",
       "    <tr>\n",
       "      <th>2582570</th>\n",
       "      <td>2753720</td>\n",
       "      <td>770395</td>\n",
       "      <td>True</td>\n",
       "      <td>2015-10-26 17:14:03+00:00</td>\n",
       "      <td>@sprintcare done</td>\n",
       "      <td>2753719</td>\n",
       "      <td>2753721.0</td>\n",
       "    </tr>\n",
       "    <tr>\n",
       "      <th>2582569</th>\n",
       "      <td>2753719</td>\n",
       "      <td>770395</td>\n",
       "      <td>True</td>\n",
       "      <td>2015-10-26 17:30:32+00:00</td>\n",
       "      <td>@sprintcare get any early upgrade.  My less th...</td>\n",
       "      <td>2753718</td>\n",
       "      <td>2753720.0</td>\n",
       "    </tr>\n",
       "  </tbody>\n",
       "</table>\n",
       "</div>"
      ],
      "text/plain": [
       "         tweet_id author_id  inbound                created_at  \\\n",
       "1157188   1278330    419157     True 2011-11-28 18:39:16+00:00   \n",
       "1402575   1544038    478295     True 2015-09-16 02:57:20+00:00   \n",
       "2582572   2753722    770395     True 2015-10-26 17:07:32+00:00   \n",
       "2582570   2753720    770395     True 2015-10-26 17:14:03+00:00   \n",
       "2582569   2753719    770395     True 2015-10-26 17:30:32+00:00   \n",
       "\n",
       "                                                      text  \\\n",
       "1157188  @sprintcare I can not make any calls whats the...   \n",
       "1402575  @115714 @sprintcare I get almost no service af...   \n",
       "2582572  @sprintcare to replace this one without paying...   \n",
       "2582570                                   @sprintcare done   \n",
       "2582569  @sprintcare get any early upgrade.  My less th...   \n",
       "\n",
       "                       response_tweet_id  in_response_to_tweet_id  \n",
       "1157188                          1278329                      NaN  \n",
       "1402575  1544039,1544040,1544041,1544035                      NaN  \n",
       "2582572                          2753721                2753723.0  \n",
       "2582570                          2753719                2753721.0  \n",
       "2582569                          2753718                2753720.0  "
      ]
     },
     "execution_count": 15,
     "metadata": {},
     "output_type": "execute_result"
    }
   ],
   "source": [
    "customer.head()"
   ]
  },
  {
   "cell_type": "markdown",
   "id": "cf3b2f39",
   "metadata": {},
   "source": [
    "#### in order to normalize the data for later use in transformer comparison, I am going to:\n",
    "- remove @sprintcare\n",
    "- remove frequent words\n",
    "- remove stopwords\n",
    "- remove URLs"
   ]
  },
  {
   "cell_type": "code",
   "execution_count": 16,
   "id": "8d5c7061",
   "metadata": {},
   "outputs": [
    {
     "name": "stdout",
     "output_type": "stream",
     "text": [
      "False\n"
     ]
    }
   ],
   "source": [
    "# 1. Get the most frequent terms\n",
    "counter = Counter()\n",
    "for text in customer[\"text\"].values:\n",
    "    for word in text.split():\n",
    "        counter[word] +=1\n",
    "top_25 = counter.most_common(25)\n",
    "top_25_list = [tup[0] for tup in top_25]\n",
    "top_25_list = [word for word in top_25_list if word != 'not']\n",
    "\n",
    "# print(top_25_list)\n",
    "\n",
    "# 2. Get the least frequent terms\n",
    "Y = customer['text']\n",
    "vectorizer = CountVectorizer(min_df = 2)\n",
    "matrix = vectorizer.fit_transform(Y)\n",
    "counts = pd.DataFrame(matrix.toarray(), columns = vectorizer.get_feature_names_out())\n",
    "stop_w = list(vectorizer.stop_words_)\n",
    "print('not' in stop_w)\n",
    "all_stops = stop_w + top_25_list\n",
    "\n",
    "\n",
    "# print(all_stops)"
   ]
  },
  {
   "cell_type": "code",
   "execution_count": 17,
   "id": "d1d79e88",
   "metadata": {},
   "outputs": [
    {
     "name": "stdout",
     "output_type": "stream",
     "text": [
      "{'100000', '🤙🏽', 'this).', '#payingabillandgettingnothinginreturn', '888-211-4727', '28557', '#reset.', '#threeweeks', 'https://t.co/XXFAQShfFw', \"Hasn't\", \"I'm#stilldealingwith.\", 'Fashooo!', '#happenedagainwhiletweeting', 'Left', 'mistakes,', 'later....', 'suggestion,', '$320', 'ago!!!', 'store?!?', '#nopestillnodata', 'mins!!', '$160.', 'performed'}\n"
     ]
    }
   ],
   "source": [
    "n_rare_words = 25\n",
    "rare_words = set([w for (w,c) in counter.most_common()][:- n_rare_words: -1])\n",
    "print(rare_words)"
   ]
  },
  {
   "cell_type": "markdown",
   "id": "4e422c43",
   "metadata": {},
   "source": [
    "#### The Twitter dataset has many @something, #something, and URLs. We need to remove them.\n"
   ]
  },
  {
   "cell_type": "code",
   "execution_count": 18,
   "id": "0cfa03ca",
   "metadata": {},
   "outputs": [],
   "source": [
    "customer.reset_index(drop=True, inplace = True)"
   ]
  },
  {
   "cell_type": "code",
   "execution_count": 19,
   "id": "7414e969",
   "metadata": {},
   "outputs": [
    {
     "data": {
      "application/vnd.jupyter.widget-view+json": {
       "model_id": "a61b3133d12f400c8aaaa406648a92e4",
       "version_major": 2,
       "version_minor": 0
      },
      "text/plain": [
       "  0%|          | 0/13711 [00:00<?, ?it/s]"
      ]
     },
     "metadata": {},
     "output_type": "display_data"
    }
   ],
   "source": [
    "def clean_twitter(tweet):\n",
    "    clean_tweet = re.sub(\"@[A-Za-z0-9_]+\",\"\", tweet)\n",
    "    clean_tweet = re.sub(\"#[A-Za-z0-9_]+\",\"\", clean_tweet)\n",
    "    words = clean_tweet.split()\n",
    "    words = ' '.join([w for w in words if w not in all_stops])\n",
    "    return words\n",
    "\n",
    "customer['clean'] = customer['text'].progress_apply(lambda tweet: clean_twitter(tweet))"
   ]
  },
  {
   "cell_type": "code",
   "execution_count": 20,
   "id": "21688c3e",
   "metadata": {
    "scrolled": true
   },
   "outputs": [
    {
     "data": {
      "text/html": [
       "<div>\n",
       "<style scoped>\n",
       "    .dataframe tbody tr th:only-of-type {\n",
       "        vertical-align: middle;\n",
       "    }\n",
       "\n",
       "    .dataframe tbody tr th {\n",
       "        vertical-align: top;\n",
       "    }\n",
       "\n",
       "    .dataframe thead th {\n",
       "        text-align: right;\n",
       "    }\n",
       "</style>\n",
       "<table border=\"1\" class=\"dataframe\">\n",
       "  <thead>\n",
       "    <tr style=\"text-align: right;\">\n",
       "      <th></th>\n",
       "      <th>tweet_id</th>\n",
       "      <th>author_id</th>\n",
       "      <th>inbound</th>\n",
       "      <th>created_at</th>\n",
       "      <th>text</th>\n",
       "      <th>response_tweet_id</th>\n",
       "      <th>in_response_to_tweet_id</th>\n",
       "      <th>clean</th>\n",
       "    </tr>\n",
       "  </thead>\n",
       "  <tbody>\n",
       "    <tr>\n",
       "      <th>0</th>\n",
       "      <td>1278330</td>\n",
       "      <td>419157</td>\n",
       "      <td>True</td>\n",
       "      <td>2011-11-28 18:39:16+00:00</td>\n",
       "      <td>@sprintcare I can not make any calls whats the...</td>\n",
       "      <td>1278329</td>\n",
       "      <td>NaN</td>\n",
       "      <td>can not make any calls whats problem please le...</td>\n",
       "    </tr>\n",
       "    <tr>\n",
       "      <th>1</th>\n",
       "      <td>1544038</td>\n",
       "      <td>478295</td>\n",
       "      <td>True</td>\n",
       "      <td>2015-09-16 02:57:20+00:00</td>\n",
       "      <td>@115714 @sprintcare I get almost no service af...</td>\n",
       "      <td>1544039,1544040,1544041,1544035</td>\n",
       "      <td>NaN</td>\n",
       "      <td>get almost no after moving LA. What wrong awfu...</td>\n",
       "    </tr>\n",
       "    <tr>\n",
       "      <th>2</th>\n",
       "      <td>2753722</td>\n",
       "      <td>770395</td>\n",
       "      <td>True</td>\n",
       "      <td>2015-10-26 17:07:32+00:00</td>\n",
       "      <td>@sprintcare to replace this one without paying...</td>\n",
       "      <td>2753721</td>\n",
       "      <td>2753723.0</td>\n",
       "      <td>replace one without paying an early upgrade fe...</td>\n",
       "    </tr>\n",
       "    <tr>\n",
       "      <th>3</th>\n",
       "      <td>2753720</td>\n",
       "      <td>770395</td>\n",
       "      <td>True</td>\n",
       "      <td>2015-10-26 17:14:03+00:00</td>\n",
       "      <td>@sprintcare done</td>\n",
       "      <td>2753719</td>\n",
       "      <td>2753721.0</td>\n",
       "      <td>done</td>\n",
       "    </tr>\n",
       "    <tr>\n",
       "      <th>4</th>\n",
       "      <td>2753719</td>\n",
       "      <td>770395</td>\n",
       "      <td>True</td>\n",
       "      <td>2015-10-26 17:30:32+00:00</td>\n",
       "      <td>@sprintcare get any early upgrade.  My less th...</td>\n",
       "      <td>2753718</td>\n",
       "      <td>2753720.0</td>\n",
       "      <td>get any early upgrade. My less than year old d...</td>\n",
       "    </tr>\n",
       "    <tr>\n",
       "      <th>5</th>\n",
       "      <td>2753717</td>\n",
       "      <td>770395</td>\n",
       "      <td>True</td>\n",
       "      <td>2015-10-26 19:54:24+00:00</td>\n",
       "      <td>@sprintcare Thanks very much for your help!</td>\n",
       "      <td>2753715</td>\n",
       "      <td>2753718.0</td>\n",
       "      <td>Thanks very much help!</td>\n",
       "    </tr>\n",
       "    <tr>\n",
       "      <th>6</th>\n",
       "      <td>726098</td>\n",
       "      <td>293934</td>\n",
       "      <td>True</td>\n",
       "      <td>2015-10-31 20:20:27+00:00</td>\n",
       "      <td>@sprintcare . I live in a city not BFE and I'm...</td>\n",
       "      <td>726097</td>\n",
       "      <td>NaN</td>\n",
       "      <td>. live city not BFE I'm sick tired getting thi...</td>\n",
       "    </tr>\n",
       "  </tbody>\n",
       "</table>\n",
       "</div>"
      ],
      "text/plain": [
       "   tweet_id author_id  inbound                created_at  \\\n",
       "0   1278330    419157     True 2011-11-28 18:39:16+00:00   \n",
       "1   1544038    478295     True 2015-09-16 02:57:20+00:00   \n",
       "2   2753722    770395     True 2015-10-26 17:07:32+00:00   \n",
       "3   2753720    770395     True 2015-10-26 17:14:03+00:00   \n",
       "4   2753719    770395     True 2015-10-26 17:30:32+00:00   \n",
       "5   2753717    770395     True 2015-10-26 19:54:24+00:00   \n",
       "6    726098    293934     True 2015-10-31 20:20:27+00:00   \n",
       "\n",
       "                                                text  \\\n",
       "0  @sprintcare I can not make any calls whats the...   \n",
       "1  @115714 @sprintcare I get almost no service af...   \n",
       "2  @sprintcare to replace this one without paying...   \n",
       "3                                   @sprintcare done   \n",
       "4  @sprintcare get any early upgrade.  My less th...   \n",
       "5        @sprintcare Thanks very much for your help!   \n",
       "6  @sprintcare . I live in a city not BFE and I'm...   \n",
       "\n",
       "                 response_tweet_id  in_response_to_tweet_id  \\\n",
       "0                          1278329                      NaN   \n",
       "1  1544039,1544040,1544041,1544035                      NaN   \n",
       "2                          2753721                2753723.0   \n",
       "3                          2753719                2753721.0   \n",
       "4                          2753718                2753720.0   \n",
       "5                          2753715                2753718.0   \n",
       "6                           726097                      NaN   \n",
       "\n",
       "                                               clean  \n",
       "0  can not make any calls whats problem please le...  \n",
       "1  get almost no after moving LA. What wrong awfu...  \n",
       "2  replace one without paying an early upgrade fe...  \n",
       "3                                               done  \n",
       "4  get any early upgrade. My less than year old d...  \n",
       "5                             Thanks very much help!  \n",
       "6  . live city not BFE I'm sick tired getting thi...  "
      ]
     },
     "execution_count": 20,
     "metadata": {},
     "output_type": "execute_result"
    }
   ],
   "source": [
    "customer.head(7)"
   ]
  },
  {
   "cell_type": "markdown",
   "id": "10769375",
   "metadata": {},
   "source": [
    "### run the Vader sentiment analyzer on customer text as a baseline\n",
    "### this function will add the vader compound scores to the dataframe"
   ]
  },
  {
   "cell_type": "code",
   "execution_count": 21,
   "id": "96128466",
   "metadata": {},
   "outputs": [],
   "source": [
    "sentiment_analyzer = SentimentIntensityAnalyzer()\n",
    "def sentiment_analyze(text:  str) -> float:\n",
    "    return sentiment_analyzer.polarity_scores(text)['compound']"
   ]
  },
  {
   "cell_type": "code",
   "execution_count": 22,
   "id": "4a3009b8",
   "metadata": {},
   "outputs": [
    {
     "data": {
      "application/vnd.jupyter.widget-view+json": {
       "model_id": "6728a6cd5c7143f989e5808703dadaf6",
       "version_major": 2,
       "version_minor": 0
      },
      "text/plain": [
       "  0%|          | 0/13711 [00:00<?, ?it/s]"
      ]
     },
     "metadata": {},
     "output_type": "display_data"
    },
    {
     "data": {
      "application/vnd.jupyter.widget-view+json": {
       "model_id": "9ede3f34afde4cd8af3da58e5e6a3700",
       "version_major": 2,
       "version_minor": 0
      },
      "text/plain": [
       "  0%|          | 0/13711 [00:00<?, ?it/s]"
      ]
     },
     "metadata": {},
     "output_type": "display_data"
    }
   ],
   "source": [
    "customer['vader_sentiment_clean'] = customer.clean.progress_apply(sentiment_analyze)\n",
    "customer['vader_sentiment_noclean'] = customer.text.progress_apply(sentiment_analyze)"
   ]
  },
  {
   "cell_type": "code",
   "execution_count": 23,
   "id": "91f832b3",
   "metadata": {
    "scrolled": true
   },
   "outputs": [
    {
     "data": {
      "text/html": [
       "<div>\n",
       "<style scoped>\n",
       "    .dataframe tbody tr th:only-of-type {\n",
       "        vertical-align: middle;\n",
       "    }\n",
       "\n",
       "    .dataframe tbody tr th {\n",
       "        vertical-align: top;\n",
       "    }\n",
       "\n",
       "    .dataframe thead th {\n",
       "        text-align: right;\n",
       "    }\n",
       "</style>\n",
       "<table border=\"1\" class=\"dataframe\">\n",
       "  <thead>\n",
       "    <tr style=\"text-align: right;\">\n",
       "      <th></th>\n",
       "      <th>tweet_id</th>\n",
       "      <th>author_id</th>\n",
       "      <th>text</th>\n",
       "      <th>clean</th>\n",
       "      <th>vader_sentiment_clean</th>\n",
       "      <th>vader_sentiment_noclean</th>\n",
       "    </tr>\n",
       "  </thead>\n",
       "  <tbody>\n",
       "    <tr>\n",
       "      <th>0</th>\n",
       "      <td>1278330</td>\n",
       "      <td>419157</td>\n",
       "      <td>@sprintcare I can not make any calls whats the...</td>\n",
       "      <td>can not make any calls whats problem please le...</td>\n",
       "      <td>-0.1027</td>\n",
       "      <td>-0.1027</td>\n",
       "    </tr>\n",
       "    <tr>\n",
       "      <th>1</th>\n",
       "      <td>1544038</td>\n",
       "      <td>478295</td>\n",
       "      <td>@115714 @sprintcare I get almost no service af...</td>\n",
       "      <td>get almost no after moving LA. What wrong awfu...</td>\n",
       "      <td>-0.8109</td>\n",
       "      <td>-0.8109</td>\n",
       "    </tr>\n",
       "    <tr>\n",
       "      <th>2</th>\n",
       "      <td>2753722</td>\n",
       "      <td>770395</td>\n",
       "      <td>@sprintcare to replace this one without paying...</td>\n",
       "      <td>replace one without paying an early upgrade fe...</td>\n",
       "      <td>0.0772</td>\n",
       "      <td>0.0772</td>\n",
       "    </tr>\n",
       "    <tr>\n",
       "      <th>3</th>\n",
       "      <td>2753720</td>\n",
       "      <td>770395</td>\n",
       "      <td>@sprintcare done</td>\n",
       "      <td>done</td>\n",
       "      <td>0.0000</td>\n",
       "      <td>0.0000</td>\n",
       "    </tr>\n",
       "    <tr>\n",
       "      <th>4</th>\n",
       "      <td>2753719</td>\n",
       "      <td>770395</td>\n",
       "      <td>@sprintcare get any early upgrade.  My less th...</td>\n",
       "      <td>get any early upgrade. My less than year old d...</td>\n",
       "      <td>0.0000</td>\n",
       "      <td>0.0000</td>\n",
       "    </tr>\n",
       "    <tr>\n",
       "      <th>5</th>\n",
       "      <td>2753717</td>\n",
       "      <td>770395</td>\n",
       "      <td>@sprintcare Thanks very much for your help!</td>\n",
       "      <td>Thanks very much help!</td>\n",
       "      <td>0.7327</td>\n",
       "      <td>0.7088</td>\n",
       "    </tr>\n",
       "    <tr>\n",
       "      <th>6</th>\n",
       "      <td>726098</td>\n",
       "      <td>293934</td>\n",
       "      <td>@sprintcare . I live in a city not BFE and I'm...</td>\n",
       "      <td>. live city not BFE I'm sick tired getting thi...</td>\n",
       "      <td>0.5054</td>\n",
       "      <td>-0.4085</td>\n",
       "    </tr>\n",
       "    <tr>\n",
       "      <th>7</th>\n",
       "      <td>726097</td>\n",
       "      <td>293934</td>\n",
       "      <td>@sprintcare at my home all day long.</td>\n",
       "      <td>at home all day long.</td>\n",
       "      <td>0.0000</td>\n",
       "      <td>0.0000</td>\n",
       "    </tr>\n",
       "    <tr>\n",
       "      <th>8</th>\n",
       "      <td>726095</td>\n",
       "      <td>293934</td>\n",
       "      <td>@sprintcare it wont help. I've ben reporting s...</td>\n",
       "      <td>wont help. I've ben reporting since last Novem...</td>\n",
       "      <td>-0.6319</td>\n",
       "      <td>-0.6319</td>\n",
       "    </tr>\n",
       "    <tr>\n",
       "      <th>9</th>\n",
       "      <td>726094</td>\n",
       "      <td>293934</td>\n",
       "      <td>@sprintcare again</td>\n",
       "      <td>again</td>\n",
       "      <td>0.0000</td>\n",
       "      <td>0.0000</td>\n",
       "    </tr>\n",
       "  </tbody>\n",
       "</table>\n",
       "</div>"
      ],
      "text/plain": [
       "   tweet_id author_id                                               text  \\\n",
       "0   1278330    419157  @sprintcare I can not make any calls whats the...   \n",
       "1   1544038    478295  @115714 @sprintcare I get almost no service af...   \n",
       "2   2753722    770395  @sprintcare to replace this one without paying...   \n",
       "3   2753720    770395                                   @sprintcare done   \n",
       "4   2753719    770395  @sprintcare get any early upgrade.  My less th...   \n",
       "5   2753717    770395        @sprintcare Thanks very much for your help!   \n",
       "6    726098    293934  @sprintcare . I live in a city not BFE and I'm...   \n",
       "7    726097    293934               @sprintcare at my home all day long.   \n",
       "8    726095    293934  @sprintcare it wont help. I've ben reporting s...   \n",
       "9    726094    293934                                  @sprintcare again   \n",
       "\n",
       "                                               clean  vader_sentiment_clean  \\\n",
       "0  can not make any calls whats problem please le...                -0.1027   \n",
       "1  get almost no after moving LA. What wrong awfu...                -0.8109   \n",
       "2  replace one without paying an early upgrade fe...                 0.0772   \n",
       "3                                               done                 0.0000   \n",
       "4  get any early upgrade. My less than year old d...                 0.0000   \n",
       "5                             Thanks very much help!                 0.7327   \n",
       "6  . live city not BFE I'm sick tired getting thi...                 0.5054   \n",
       "7                              at home all day long.                 0.0000   \n",
       "8  wont help. I've ben reporting since last Novem...                -0.6319   \n",
       "9                                              again                 0.0000   \n",
       "\n",
       "   vader_sentiment_noclean  \n",
       "0                  -0.1027  \n",
       "1                  -0.8109  \n",
       "2                   0.0772  \n",
       "3                   0.0000  \n",
       "4                   0.0000  \n",
       "5                   0.7088  \n",
       "6                  -0.4085  \n",
       "7                   0.0000  \n",
       "8                  -0.6319  \n",
       "9                   0.0000  "
      ]
     },
     "execution_count": 23,
     "metadata": {},
     "output_type": "execute_result"
    }
   ],
   "source": [
    "# Drop unnecessary columns\n",
    "customer.drop(['inbound', 'created_at', 'response_tweet_id', 'in_response_to_tweet_id'], inplace=True,\n",
    "             axis = 1)\n",
    "customer.head(10)\n"
   ]
  },
  {
   "cell_type": "code",
   "execution_count": 24,
   "id": "83609fed",
   "metadata": {
    "scrolled": true
   },
   "outputs": [
    {
     "data": {
      "text/html": [
       "<div>\n",
       "<style scoped>\n",
       "    .dataframe tbody tr th:only-of-type {\n",
       "        vertical-align: middle;\n",
       "    }\n",
       "\n",
       "    .dataframe tbody tr th {\n",
       "        vertical-align: top;\n",
       "    }\n",
       "\n",
       "    .dataframe thead th {\n",
       "        text-align: right;\n",
       "    }\n",
       "</style>\n",
       "<table border=\"1\" class=\"dataframe\">\n",
       "  <thead>\n",
       "    <tr style=\"text-align: right;\">\n",
       "      <th></th>\n",
       "      <th>tweet_id</th>\n",
       "      <th>author_id</th>\n",
       "      <th>text</th>\n",
       "      <th>clean</th>\n",
       "      <th>vader_sentiment_clean</th>\n",
       "      <th>vader_sentiment_noclean</th>\n",
       "    </tr>\n",
       "  </thead>\n",
       "  <tbody>\n",
       "    <tr>\n",
       "      <th>13706</th>\n",
       "      <td>596987</td>\n",
       "      <td>261524</td>\n",
       "      <td>@sprintcare You guys can’t fix what you’ve don...</td>\n",
       "      <td>You guys can’t fix what you’ve done. I’m alrea...</td>\n",
       "      <td>0.4767</td>\n",
       "      <td>0.4767</td>\n",
       "    </tr>\n",
       "    <tr>\n",
       "      <th>13707</th>\n",
       "      <td>603292</td>\n",
       "      <td>263319</td>\n",
       "      <td>@sprintcare Fashooo! You guys have helped way ...</td>\n",
       "      <td>Fashooo! You guys helped way more than . I'll ...</td>\n",
       "      <td>0.0000</td>\n",
       "      <td>0.0000</td>\n",
       "    </tr>\n",
       "    <tr>\n",
       "      <th>13708</th>\n",
       "      <td>86600</td>\n",
       "      <td>134926</td>\n",
       "      <td>@sprintcare @sprintcare @115714 Do you think y...</td>\n",
       "      <td>Do think you’ll ever put new towers coastal NC...</td>\n",
       "      <td>0.0000</td>\n",
       "      <td>0.0000</td>\n",
       "    </tr>\n",
       "    <tr>\n",
       "      <th>13709</th>\n",
       "      <td>603291</td>\n",
       "      <td>263319</td>\n",
       "      <td>@sprintcare Much appreciated 🤙🏽</td>\n",
       "      <td>Much appreciated 🤙🏽</td>\n",
       "      <td>0.5106</td>\n",
       "      <td>0.5106</td>\n",
       "    </tr>\n",
       "    <tr>\n",
       "      <th>13710</th>\n",
       "      <td>603286</td>\n",
       "      <td>263317</td>\n",
       "      <td>@sprintcare i’ve repeated my problem 100000 ti...</td>\n",
       "      <td>i’ve repeated problem times over doing that.</td>\n",
       "      <td>-0.4019</td>\n",
       "      <td>-0.4019</td>\n",
       "    </tr>\n",
       "  </tbody>\n",
       "</table>\n",
       "</div>"
      ],
      "text/plain": [
       "       tweet_id author_id                                               text  \\\n",
       "13706    596987    261524  @sprintcare You guys can’t fix what you’ve don...   \n",
       "13707    603292    263319  @sprintcare Fashooo! You guys have helped way ...   \n",
       "13708     86600    134926  @sprintcare @sprintcare @115714 Do you think y...   \n",
       "13709    603291    263319                    @sprintcare Much appreciated 🤙🏽   \n",
       "13710    603286    263317  @sprintcare i’ve repeated my problem 100000 ti...   \n",
       "\n",
       "                                                   clean  \\\n",
       "13706  You guys can’t fix what you’ve done. I’m alrea...   \n",
       "13707  Fashooo! You guys helped way more than . I'll ...   \n",
       "13708  Do think you’ll ever put new towers coastal NC...   \n",
       "13709                                Much appreciated 🤙🏽   \n",
       "13710       i’ve repeated problem times over doing that.   \n",
       "\n",
       "       vader_sentiment_clean  vader_sentiment_noclean  \n",
       "13706                 0.4767                   0.4767  \n",
       "13707                 0.0000                   0.0000  \n",
       "13708                 0.0000                   0.0000  \n",
       "13709                 0.5106                   0.5106  \n",
       "13710                -0.4019                  -0.4019  "
      ]
     },
     "execution_count": 24,
     "metadata": {},
     "output_type": "execute_result"
    }
   ],
   "source": [
    "customer.tail()"
   ]
  },
  {
   "cell_type": "code",
   "execution_count": 25,
   "id": "cd3dd52b",
   "metadata": {},
   "outputs": [
    {
     "data": {
      "application/vnd.jupyter.widget-view+json": {
       "model_id": "bd2a35592ff244209c0225f6e6d9328a",
       "version_major": 2,
       "version_minor": 0
      },
      "text/plain": [
       "  0%|          | 0/892 [00:00<?, ?it/s]"
      ]
     },
     "metadata": {},
     "output_type": "display_data"
    },
    {
     "name": "stdout",
     "output_type": "stream",
     "text": [
      "Cleaning the data had a 6.505725330026986 percent effect on how the scores were calculated\n"
     ]
    },
    {
     "name": "stderr",
     "output_type": "stream",
     "text": [
      "/var/folders/pl/k80fpf9s4f9_3rp8hnpw5x0m0000gq/T/ipykernel_18056/2860287093.py:8: SettingWithCopyWarning: \n",
      "A value is trying to be set on a copy of a slice from a DataFrame.\n",
      "Try using .loc[row_indexer,col_indexer] = value instead\n",
      "\n",
      "See the caveats in the documentation: https://pandas.pydata.org/pandas-docs/stable/user_guide/indexing.html#returning-a-view-versus-a-copy\n",
      "  temp['vader_compare']= temp.progress_apply(lambda x:  compare_vader(x['vader_sentiment_clean'], x ['vader_sentiment_noclean']), axis = 1)\n"
     ]
    }
   ],
   "source": [
    "# Examine the results to determine if there are any significant differences\n",
    "temp = customer.loc[(customer['vader_sentiment_clean'])!=(customer['vader_sentiment_noclean'])]\n",
    "\n",
    "# Helper function to compare the differences in results of each model input\n",
    "def compare_vader(num_a:  float, num_b:  float)-> float:\n",
    "    diff = abs(num_a-num_b) \n",
    "    return diff\n",
    "temp['vader_compare']= temp.progress_apply(lambda x:  compare_vader(x['vader_sentiment_clean'], x ['vader_sentiment_noclean']), axis = 1)\n",
    "print (\"Cleaning the data had a\", ((temp.shape[0] / customer.shape[0])* 100), \"percent effect on how the scores were calculated\")"
   ]
  },
  {
   "cell_type": "code",
   "execution_count": 26,
   "id": "114bf47f",
   "metadata": {},
   "outputs": [
    {
     "name": "stdout",
     "output_type": "stream",
     "text": [
      "can not make any calls whats problem please let out contact\n",
      "@sprintcare I can not make any calls whats the problem #sprint #4G @115714 please let me out of my contact\n"
     ]
    }
   ],
   "source": [
    "print(customer.loc[0]['clean'])\n",
    "print(customer.loc[0]['text'])"
   ]
  },
  {
   "cell_type": "code",
   "execution_count": 27,
   "id": "f79200e0",
   "metadata": {},
   "outputs": [
    {
     "data": {
      "text/plain": [
       "-0.1027"
      ]
     },
     "execution_count": 27,
     "metadata": {},
     "output_type": "execute_result"
    }
   ],
   "source": [
    "customer.loc[0]['vader_sentiment_clean']"
   ]
  },
  {
   "cell_type": "code",
   "execution_count": 28,
   "id": "45f57d3b",
   "metadata": {},
   "outputs": [
    {
     "data": {
      "text/plain": [
       "'can not make any calls whats problem please let out contact'"
      ]
     },
     "execution_count": 28,
     "metadata": {},
     "output_type": "execute_result"
    }
   ],
   "source": [
    "customer.clean[0]"
   ]
  },
  {
   "cell_type": "code",
   "execution_count": 29,
   "id": "c0558068",
   "metadata": {},
   "outputs": [
    {
     "data": {
      "text/plain": [
       "'get almost no after moving LA. What wrong awful coverage? Why should stay guys?'"
      ]
     },
     "execution_count": 29,
     "metadata": {},
     "output_type": "execute_result"
    }
   ],
   "source": [
    "customer.clean[1]"
   ]
  },
  {
   "cell_type": "code",
   "execution_count": 30,
   "id": "efe4287c",
   "metadata": {},
   "outputs": [
    {
     "data": {
      "text/plain": [
       "-0.8109"
      ]
     },
     "execution_count": 30,
     "metadata": {},
     "output_type": "execute_result"
    }
   ],
   "source": [
    "customer.vader_sentiment_clean[1]"
   ]
  },
  {
   "cell_type": "code",
   "execution_count": 31,
   "id": "c392b7e5",
   "metadata": {},
   "outputs": [
    {
     "name": "stdout",
     "output_type": "stream",
     "text": [
      "['emoji', 'tok2vec', 'tagger', 'parser', 'attribute_ruler', 'lemmatizer', 'ner']\n"
     ]
    }
   ],
   "source": [
    "nlp.add_pipe('emoji', first=True)\n",
    "print(nlp.pipe_names)"
   ]
  },
  {
   "cell_type": "code",
   "execution_count": 32,
   "id": "15518dc1",
   "metadata": {},
   "outputs": [
    {
     "data": {
      "application/vnd.jupyter.widget-view+json": {
       "model_id": "113b3fc6fce0436b86685458f81af166",
       "version_major": 2,
       "version_minor": 0
      },
      "text/plain": [
       "0it [00:00, ?it/s]"
      ]
     },
     "metadata": {},
     "output_type": "display_data"
    }
   ],
   "source": [
    "# Checking to see how emojis affect the scoring\n",
    "emojis = []\n",
    "for doc in tqdm(nlp.pipe(customer[\"clean\"], batch_size=512)):\n",
    "    if doc._.has_emoji:\n",
    "        for e in doc._.emoji:\n",
    "            emojis.extend(e[0])"
   ]
  },
  {
   "cell_type": "code",
   "execution_count": 33,
   "id": "1026bdb3",
   "metadata": {},
   "outputs": [
    {
     "name": "stdout",
     "output_type": "stream",
     "text": [
      "[('😂', 306), ('😡', 117), ('️', 103), ('\\u200d', 75), ('🙄', 75), ('🤔', 62), ('🏻', 52), ('🤦', 51), ('😤', 44), ('🏽', 43), ('😒', 42), ('🏾', 42), ('♂', 40), ('🏼', 40), ('👍', 35), ('♀', 34), ('😭', 33), ('😩', 31), ('😠', 31), ('😊', 30), ('👎', 26), ('🤬', 26), ('🤣', 25), ('😑', 21), ('🖕', 21)]\n"
     ]
    }
   ],
   "source": [
    "eCount = Counter(emojis)\n",
    "eCount.most_common\n",
    "top_25 = eCount.most_common(25)\n",
    "top_25_emoji_list = [tup[0] for tup in top_25]\n",
    "print (top_25)\n",
    "# top_25_emoji_list\n"
   ]
  },
  {
   "cell_type": "code",
   "execution_count": 34,
   "id": "48cc635d",
   "metadata": {},
   "outputs": [],
   "source": [
    "# evaluate how Vader treats standalone emojis\n",
    "import statistics\n",
    "for item in top_25_emoji_list:\n",
    "    scored = sentiment_analyze(item)\n",
    "\n"
   ]
  },
  {
   "cell_type": "code",
   "execution_count": 35,
   "id": "0bcea641",
   "metadata": {},
   "outputs": [
    {
     "name": "stdout",
     "output_type": "stream",
     "text": [
      "0.0\n"
     ]
    }
   ],
   "source": [
    "print(scored)"
   ]
  },
  {
   "cell_type": "code",
   "execution_count": 36,
   "id": "32b0f893",
   "metadata": {},
   "outputs": [],
   "source": [
    "### Assign Vader compound scores to positive(2), negative(1) or neutral class(0)"
   ]
  },
  {
   "cell_type": "code",
   "execution_count": 44,
   "id": "bd4814a8",
   "metadata": {},
   "outputs": [
    {
     "data": {
      "application/vnd.jupyter.widget-view+json": {
       "model_id": "d363e5f5c33d4bb3aae3b8f461702225",
       "version_major": 2,
       "version_minor": 0
      },
      "text/plain": [
       "  0%|          | 0/13711 [00:00<?, ?it/s]"
      ]
     },
     "metadata": {},
     "output_type": "display_data"
    },
    {
     "data": {
      "application/vnd.jupyter.widget-view+json": {
       "model_id": "71010a0b6092491e9757fd09fd18fd9d",
       "version_major": 2,
       "version_minor": 0
      },
      "text/plain": [
       "  0%|          | 0/13711 [00:00<?, ?it/s]"
      ]
     },
     "metadata": {},
     "output_type": "display_data"
    }
   ],
   "source": [
    "## for the purpose of recording input variables, I have conducted experimentation with this logi:\n",
    "### customer['vader_clean_class']= customer['vader_sentiment_clean'].progress_apply(lambda c: 2 if c >0.6 else 1 if -0.5999 <= c <=0.5999 else 0)\n",
    "#### results are below\n",
    "customer['vader_clean_class']= customer['vader_sentiment_clean'].progress_apply(lambda c: 2 if c >0.25 else 1 if -0.24999 <= c <=0.24999 else 0)\n",
    "customer['vader_noclean_class']= customer['vader_sentiment_noclean'].progress_apply(lambda c: 2 if c >0.25 else 1 if -0.24999 <= c <=0.24999 else 0)"
   ]
  },
  {
   "cell_type": "code",
   "execution_count": 45,
   "id": "970423bd",
   "metadata": {},
   "outputs": [
    {
     "data": {
      "text/html": [
       "<div>\n",
       "<style scoped>\n",
       "    .dataframe tbody tr th:only-of-type {\n",
       "        vertical-align: middle;\n",
       "    }\n",
       "\n",
       "    .dataframe tbody tr th {\n",
       "        vertical-align: top;\n",
       "    }\n",
       "\n",
       "    .dataframe thead th {\n",
       "        text-align: right;\n",
       "    }\n",
       "</style>\n",
       "<table border=\"1\" class=\"dataframe\">\n",
       "  <thead>\n",
       "    <tr style=\"text-align: right;\">\n",
       "      <th></th>\n",
       "      <th>tweet_id</th>\n",
       "      <th>author_id</th>\n",
       "      <th>text</th>\n",
       "      <th>clean</th>\n",
       "      <th>vader_sentiment_clean</th>\n",
       "      <th>vader_sentiment_noclean</th>\n",
       "      <th>vader_clean_class</th>\n",
       "      <th>vader_noclean_class</th>\n",
       "    </tr>\n",
       "  </thead>\n",
       "  <tbody>\n",
       "    <tr>\n",
       "      <th>0</th>\n",
       "      <td>1278330</td>\n",
       "      <td>419157</td>\n",
       "      <td>@sprintcare I can not make any calls whats the...</td>\n",
       "      <td>can not make any calls whats problem please le...</td>\n",
       "      <td>-0.1027</td>\n",
       "      <td>-0.1027</td>\n",
       "      <td>1</td>\n",
       "      <td>1</td>\n",
       "    </tr>\n",
       "    <tr>\n",
       "      <th>1</th>\n",
       "      <td>1544038</td>\n",
       "      <td>478295</td>\n",
       "      <td>@115714 @sprintcare I get almost no service af...</td>\n",
       "      <td>get almost no after moving LA. What wrong awfu...</td>\n",
       "      <td>-0.8109</td>\n",
       "      <td>-0.8109</td>\n",
       "      <td>0</td>\n",
       "      <td>0</td>\n",
       "    </tr>\n",
       "    <tr>\n",
       "      <th>2</th>\n",
       "      <td>2753722</td>\n",
       "      <td>770395</td>\n",
       "      <td>@sprintcare to replace this one without paying...</td>\n",
       "      <td>replace one without paying an early upgrade fe...</td>\n",
       "      <td>0.0772</td>\n",
       "      <td>0.0772</td>\n",
       "      <td>1</td>\n",
       "      <td>1</td>\n",
       "    </tr>\n",
       "    <tr>\n",
       "      <th>3</th>\n",
       "      <td>2753720</td>\n",
       "      <td>770395</td>\n",
       "      <td>@sprintcare done</td>\n",
       "      <td>done</td>\n",
       "      <td>0.0000</td>\n",
       "      <td>0.0000</td>\n",
       "      <td>1</td>\n",
       "      <td>1</td>\n",
       "    </tr>\n",
       "    <tr>\n",
       "      <th>4</th>\n",
       "      <td>2753719</td>\n",
       "      <td>770395</td>\n",
       "      <td>@sprintcare get any early upgrade.  My less th...</td>\n",
       "      <td>get any early upgrade. My less than year old d...</td>\n",
       "      <td>0.0000</td>\n",
       "      <td>0.0000</td>\n",
       "      <td>1</td>\n",
       "      <td>1</td>\n",
       "    </tr>\n",
       "  </tbody>\n",
       "</table>\n",
       "</div>"
      ],
      "text/plain": [
       "   tweet_id author_id                                               text  \\\n",
       "0   1278330    419157  @sprintcare I can not make any calls whats the...   \n",
       "1   1544038    478295  @115714 @sprintcare I get almost no service af...   \n",
       "2   2753722    770395  @sprintcare to replace this one without paying...   \n",
       "3   2753720    770395                                   @sprintcare done   \n",
       "4   2753719    770395  @sprintcare get any early upgrade.  My less th...   \n",
       "\n",
       "                                               clean  vader_sentiment_clean  \\\n",
       "0  can not make any calls whats problem please le...                -0.1027   \n",
       "1  get almost no after moving LA. What wrong awfu...                -0.8109   \n",
       "2  replace one without paying an early upgrade fe...                 0.0772   \n",
       "3                                               done                 0.0000   \n",
       "4  get any early upgrade. My less than year old d...                 0.0000   \n",
       "\n",
       "   vader_sentiment_noclean  vader_clean_class  vader_noclean_class  \n",
       "0                  -0.1027                  1                    1  \n",
       "1                  -0.8109                  0                    0  \n",
       "2                   0.0772                  1                    1  \n",
       "3                   0.0000                  1                    1  \n",
       "4                   0.0000                  1                    1  "
      ]
     },
     "execution_count": 45,
     "metadata": {},
     "output_type": "execute_result"
    }
   ],
   "source": [
    "\n",
    "customer.head()"
   ]
  },
  {
   "cell_type": "code",
   "execution_count": 46,
   "id": "033ed66a",
   "metadata": {},
   "outputs": [
    {
     "data": {
      "application/vnd.jupyter.widget-view+json": {
       "model_id": "100f3be4f1ee453aa32fc4ee07ee0606",
       "version_major": 2,
       "version_minor": 0
      },
      "text/plain": [
       "  0%|          | 0/13711 [00:00<?, ?it/s]"
      ]
     },
     "metadata": {},
     "output_type": "display_data"
    }
   ],
   "source": [
    "# Identify any classifications that do not agree\n",
    "customer['vader_class_compare']= customer.progress_apply(lambda x: compare_vader(x['vader_clean_class'], x ['vader_noclean_class']), axis = 1)"
   ]
  },
  {
   "cell_type": "code",
   "execution_count": 47,
   "id": "16cbb516",
   "metadata": {
    "scrolled": true
   },
   "outputs": [
    {
     "data": {
      "text/html": [
       "<div>\n",
       "<style scoped>\n",
       "    .dataframe tbody tr th:only-of-type {\n",
       "        vertical-align: middle;\n",
       "    }\n",
       "\n",
       "    .dataframe tbody tr th {\n",
       "        vertical-align: top;\n",
       "    }\n",
       "\n",
       "    .dataframe thead th {\n",
       "        text-align: right;\n",
       "    }\n",
       "</style>\n",
       "<table border=\"1\" class=\"dataframe\">\n",
       "  <thead>\n",
       "    <tr style=\"text-align: right;\">\n",
       "      <th></th>\n",
       "      <th>tweet_id</th>\n",
       "      <th>author_id</th>\n",
       "      <th>text</th>\n",
       "      <th>clean</th>\n",
       "      <th>vader_sentiment_clean</th>\n",
       "      <th>vader_sentiment_noclean</th>\n",
       "      <th>vader_clean_class</th>\n",
       "      <th>vader_noclean_class</th>\n",
       "      <th>vader_class_compare</th>\n",
       "    </tr>\n",
       "  </thead>\n",
       "  <tbody>\n",
       "    <tr>\n",
       "      <th>0</th>\n",
       "      <td>1278330</td>\n",
       "      <td>419157</td>\n",
       "      <td>@sprintcare I can not make any calls whats the...</td>\n",
       "      <td>can not make any calls whats problem please le...</td>\n",
       "      <td>-0.1027</td>\n",
       "      <td>-0.1027</td>\n",
       "      <td>1</td>\n",
       "      <td>1</td>\n",
       "      <td>0</td>\n",
       "    </tr>\n",
       "    <tr>\n",
       "      <th>1</th>\n",
       "      <td>1544038</td>\n",
       "      <td>478295</td>\n",
       "      <td>@115714 @sprintcare I get almost no service af...</td>\n",
       "      <td>get almost no after moving LA. What wrong awfu...</td>\n",
       "      <td>-0.8109</td>\n",
       "      <td>-0.8109</td>\n",
       "      <td>0</td>\n",
       "      <td>0</td>\n",
       "      <td>0</td>\n",
       "    </tr>\n",
       "    <tr>\n",
       "      <th>2</th>\n",
       "      <td>2753722</td>\n",
       "      <td>770395</td>\n",
       "      <td>@sprintcare to replace this one without paying...</td>\n",
       "      <td>replace one without paying an early upgrade fe...</td>\n",
       "      <td>0.0772</td>\n",
       "      <td>0.0772</td>\n",
       "      <td>1</td>\n",
       "      <td>1</td>\n",
       "      <td>0</td>\n",
       "    </tr>\n",
       "    <tr>\n",
       "      <th>3</th>\n",
       "      <td>2753720</td>\n",
       "      <td>770395</td>\n",
       "      <td>@sprintcare done</td>\n",
       "      <td>done</td>\n",
       "      <td>0.0000</td>\n",
       "      <td>0.0000</td>\n",
       "      <td>1</td>\n",
       "      <td>1</td>\n",
       "      <td>0</td>\n",
       "    </tr>\n",
       "    <tr>\n",
       "      <th>4</th>\n",
       "      <td>2753719</td>\n",
       "      <td>770395</td>\n",
       "      <td>@sprintcare get any early upgrade.  My less th...</td>\n",
       "      <td>get any early upgrade. My less than year old d...</td>\n",
       "      <td>0.0000</td>\n",
       "      <td>0.0000</td>\n",
       "      <td>1</td>\n",
       "      <td>1</td>\n",
       "      <td>0</td>\n",
       "    </tr>\n",
       "    <tr>\n",
       "      <th>5</th>\n",
       "      <td>2753717</td>\n",
       "      <td>770395</td>\n",
       "      <td>@sprintcare Thanks very much for your help!</td>\n",
       "      <td>Thanks very much help!</td>\n",
       "      <td>0.7327</td>\n",
       "      <td>0.7088</td>\n",
       "      <td>2</td>\n",
       "      <td>2</td>\n",
       "      <td>0</td>\n",
       "    </tr>\n",
       "    <tr>\n",
       "      <th>6</th>\n",
       "      <td>726098</td>\n",
       "      <td>293934</td>\n",
       "      <td>@sprintcare . I live in a city not BFE and I'm...</td>\n",
       "      <td>. live city not BFE I'm sick tired getting thi...</td>\n",
       "      <td>0.5054</td>\n",
       "      <td>-0.4085</td>\n",
       "      <td>2</td>\n",
       "      <td>0</td>\n",
       "      <td>2</td>\n",
       "    </tr>\n",
       "    <tr>\n",
       "      <th>7</th>\n",
       "      <td>726097</td>\n",
       "      <td>293934</td>\n",
       "      <td>@sprintcare at my home all day long.</td>\n",
       "      <td>at home all day long.</td>\n",
       "      <td>0.0000</td>\n",
       "      <td>0.0000</td>\n",
       "      <td>1</td>\n",
       "      <td>1</td>\n",
       "      <td>0</td>\n",
       "    </tr>\n",
       "    <tr>\n",
       "      <th>8</th>\n",
       "      <td>726095</td>\n",
       "      <td>293934</td>\n",
       "      <td>@sprintcare it wont help. I've ben reporting s...</td>\n",
       "      <td>wont help. I've ben reporting since last Novem...</td>\n",
       "      <td>-0.6319</td>\n",
       "      <td>-0.6319</td>\n",
       "      <td>0</td>\n",
       "      <td>0</td>\n",
       "      <td>0</td>\n",
       "    </tr>\n",
       "    <tr>\n",
       "      <th>9</th>\n",
       "      <td>726094</td>\n",
       "      <td>293934</td>\n",
       "      <td>@sprintcare again</td>\n",
       "      <td>again</td>\n",
       "      <td>0.0000</td>\n",
       "      <td>0.0000</td>\n",
       "      <td>1</td>\n",
       "      <td>1</td>\n",
       "      <td>0</td>\n",
       "    </tr>\n",
       "  </tbody>\n",
       "</table>\n",
       "</div>"
      ],
      "text/plain": [
       "   tweet_id author_id                                               text  \\\n",
       "0   1278330    419157  @sprintcare I can not make any calls whats the...   \n",
       "1   1544038    478295  @115714 @sprintcare I get almost no service af...   \n",
       "2   2753722    770395  @sprintcare to replace this one without paying...   \n",
       "3   2753720    770395                                   @sprintcare done   \n",
       "4   2753719    770395  @sprintcare get any early upgrade.  My less th...   \n",
       "5   2753717    770395        @sprintcare Thanks very much for your help!   \n",
       "6    726098    293934  @sprintcare . I live in a city not BFE and I'm...   \n",
       "7    726097    293934               @sprintcare at my home all day long.   \n",
       "8    726095    293934  @sprintcare it wont help. I've ben reporting s...   \n",
       "9    726094    293934                                  @sprintcare again   \n",
       "\n",
       "                                               clean  vader_sentiment_clean  \\\n",
       "0  can not make any calls whats problem please le...                -0.1027   \n",
       "1  get almost no after moving LA. What wrong awfu...                -0.8109   \n",
       "2  replace one without paying an early upgrade fe...                 0.0772   \n",
       "3                                               done                 0.0000   \n",
       "4  get any early upgrade. My less than year old d...                 0.0000   \n",
       "5                             Thanks very much help!                 0.7327   \n",
       "6  . live city not BFE I'm sick tired getting thi...                 0.5054   \n",
       "7                              at home all day long.                 0.0000   \n",
       "8  wont help. I've ben reporting since last Novem...                -0.6319   \n",
       "9                                              again                 0.0000   \n",
       "\n",
       "   vader_sentiment_noclean  vader_clean_class  vader_noclean_class  \\\n",
       "0                  -0.1027                  1                    1   \n",
       "1                  -0.8109                  0                    0   \n",
       "2                   0.0772                  1                    1   \n",
       "3                   0.0000                  1                    1   \n",
       "4                   0.0000                  1                    1   \n",
       "5                   0.7088                  2                    2   \n",
       "6                  -0.4085                  2                    0   \n",
       "7                   0.0000                  1                    1   \n",
       "8                  -0.6319                  0                    0   \n",
       "9                   0.0000                  1                    1   \n",
       "\n",
       "   vader_class_compare  \n",
       "0                    0  \n",
       "1                    0  \n",
       "2                    0  \n",
       "3                    0  \n",
       "4                    0  \n",
       "5                    0  \n",
       "6                    2  \n",
       "7                    0  \n",
       "8                    0  \n",
       "9                    0  "
      ]
     },
     "execution_count": 47,
     "metadata": {},
     "output_type": "execute_result"
    }
   ],
   "source": [
    "customer.head(10)"
   ]
  },
  {
   "cell_type": "markdown",
   "id": "30b51878",
   "metadata": {},
   "source": [
    "###  Print out the total number of Vader predictions against unclean and clean data "
   ]
  },
  {
   "cell_type": "code",
   "execution_count": 48,
   "id": "49f6d2c9",
   "metadata": {},
   "outputs": [
    {
     "name": "stdout",
     "output_type": "stream",
     "text": [
      "295\n",
      "Cleaning the data had a 2.1515571438990593 percent effect on Vader predictions\n"
     ]
    }
   ],
   "source": [
    "analyze_diff = customer.loc[(customer['vader_clean_class'])!=(customer['vader_noclean_class'])]\n",
    "\n",
    "print(analyze_diff.shape[0])\n",
    "\n",
    "print (\"Cleaning the data had a\", ((analyze_diff.shape[0] / customer.shape[0])* 100), \"percent effect on Vader predictions\")\n",
    "\n",
    "analyze_diff.reset_index(drop=True, inplace = True)"
   ]
  },
  {
   "cell_type": "markdown",
   "id": "33888668",
   "metadata": {},
   "source": [
    "### interesting point ^^:\n",
    "- changing the rules for assigning a 2, 1 or 0 from a standard approach of Vader's scoring had a 6% effect (reduced differential).  Meaning, when I changed it from 2 = >0.6 and <=0.6; this had a significant effect on the imposed change on the output variable\n",
    "\n",
    "- when reducing that span to <=0.2499 and <= -0.2499, it reduced to 2.15%\n",
    "- 1/25/23 update:  Modifying the stopword list to exclude 'not' (for negation valency) further reduced the distance noted above"
   ]
  },
  {
   "cell_type": "markdown",
   "id": "5e566b8a",
   "metadata": {},
   "source": [
    "### Evaluate the dataset for balance; both datasets should be fairly balanced"
   ]
  },
  {
   "cell_type": "code",
   "execution_count": 49,
   "id": "1fa7af0a",
   "metadata": {},
   "outputs": [
    {
     "name": "stdout",
     "output_type": "stream",
     "text": [
      "1    6325\n",
      "2    3769\n",
      "0    3617\n",
      "Name: vader_clean_class, dtype: int64\n",
      "[6325, 3769, 3617]\n",
      "[6278, 3754, 3679]\n"
     ]
    }
   ],
   "source": [
    "# count the number of unique values for classes to evaluate balance of data\n",
    "# data classes are fairly evenly distributed\n",
    "li = list(customer['vader_clean_class'].value_counts())\n",
    "print((customer['vader_clean_class']).value_counts())\n",
    "li2 = list(customer['vader_noclean_class'].value_counts())\n",
    "print (li)\n",
    "print (li2)"
   ]
  },
  {
   "cell_type": "markdown",
   "id": "2c28b916",
   "metadata": {},
   "source": [
    "### Run the Transformer model"
   ]
  },
  {
   "cell_type": "code",
   "execution_count": 50,
   "id": "13e92cf3",
   "metadata": {
    "scrolled": true
   },
   "outputs": [
    {
     "name": "stderr",
     "output_type": "stream",
     "text": [
      "Some weights of the model checkpoint at cardiffnlp/twitter-roberta-base-sentiment-latest were not used when initializing RobertaForSequenceClassification: ['roberta.pooler.dense.weight', 'roberta.pooler.dense.bias']\n",
      "- This IS expected if you are initializing RobertaForSequenceClassification from the checkpoint of a model trained on another task or with another architecture (e.g. initializing a BertForSequenceClassification model from a BertForPreTraining model).\n",
      "- This IS NOT expected if you are initializing RobertaForSequenceClassification from the checkpoint of a model that you expect to be exactly identical (initializing a BertForSequenceClassification model from a BertForSequenceClassification model).\n"
     ]
    },
    {
     "data": {
      "text/plain": [
       "[{'label': 'negative', 'score': 0.9258463978767395}]"
      ]
     },
     "execution_count": 50,
     "metadata": {},
     "output_type": "execute_result"
    }
   ],
   "source": [
    "from transformers import AutoTokenizer, AutoModelForSequenceClassification, pipeline\n",
    "tokenizer = AutoTokenizer.from_pretrained(\"cardiffnlp/twitter-roberta-base-sentiment-latest\")\n",
    "model = AutoModelForSequenceClassification.from_pretrained(\"cardiffnlp/twitter-roberta-base-sentiment-latest\")\n",
    "sentiment_task = pipeline(\"sentiment-analysis\", model=model, tokenizer=tokenizer)\n",
    "sentiment_task(\"get any early upgrade. My less than a year old phone does not work? How is this right? You already have $400 of my $$\")"
   ]
  },
  {
   "cell_type": "code",
   "execution_count": 51,
   "id": "c33afc82",
   "metadata": {},
   "outputs": [
    {
     "data": {
      "text/plain": [
       "[{'label': 'neutral', 'score': 0.6042206287384033}]"
      ]
     },
     "execution_count": 51,
     "metadata": {},
     "output_type": "execute_result"
    }
   ],
   "source": [
    "# This is a test of the sentiment analysis\n",
    "sentiment_task(\"I'm here\")"
   ]
  },
  {
   "cell_type": "code",
   "execution_count": 52,
   "id": "3d629165",
   "metadata": {},
   "outputs": [
    {
     "data": {
      "application/vnd.jupyter.widget-view+json": {
       "model_id": "e6d4df0803ae440bb5628c1733d00ac9",
       "version_major": 2,
       "version_minor": 0
      },
      "text/plain": [
       "  0%|          | 0/13711 [00:00<?, ?it/s]"
      ]
     },
     "metadata": {},
     "output_type": "display_data"
    },
    {
     "data": {
      "application/vnd.jupyter.widget-view+json": {
       "model_id": "934d4092752d439b9215c12296ff6f39",
       "version_major": 2,
       "version_minor": 0
      },
      "text/plain": [
       "  0%|          | 0/13711 [00:00<?, ?it/s]"
      ]
     },
     "metadata": {},
     "output_type": "display_data"
    }
   ],
   "source": [
    "import time\n",
    "start_time = time.time()\n",
    "\n",
    "customer['roberta_pred'] = customer['clean'].progress_apply(sentiment_task)\n",
    "customer['roberta_pred_no_clean'] = customer['text'].progress_apply(sentiment_task)\n",
    "\n",
    "# print(\"--- %s seconds ---\" % (time.time() - start_time))"
   ]
  },
  {
   "cell_type": "code",
   "execution_count": 53,
   "id": "83e3d6e9",
   "metadata": {},
   "outputs": [
    {
     "data": {
      "text/html": [
       "<div>\n",
       "<style scoped>\n",
       "    .dataframe tbody tr th:only-of-type {\n",
       "        vertical-align: middle;\n",
       "    }\n",
       "\n",
       "    .dataframe tbody tr th {\n",
       "        vertical-align: top;\n",
       "    }\n",
       "\n",
       "    .dataframe thead th {\n",
       "        text-align: right;\n",
       "    }\n",
       "</style>\n",
       "<table border=\"1\" class=\"dataframe\">\n",
       "  <thead>\n",
       "    <tr style=\"text-align: right;\">\n",
       "      <th></th>\n",
       "      <th>tweet_id</th>\n",
       "      <th>author_id</th>\n",
       "      <th>text</th>\n",
       "      <th>clean</th>\n",
       "      <th>vader_sentiment_clean</th>\n",
       "      <th>vader_sentiment_noclean</th>\n",
       "      <th>vader_clean_class</th>\n",
       "      <th>vader_noclean_class</th>\n",
       "      <th>vader_class_compare</th>\n",
       "      <th>roberta_pred</th>\n",
       "      <th>roberta_pred_no_clean</th>\n",
       "    </tr>\n",
       "  </thead>\n",
       "  <tbody>\n",
       "    <tr>\n",
       "      <th>0</th>\n",
       "      <td>1278330</td>\n",
       "      <td>419157</td>\n",
       "      <td>@sprintcare I can not make any calls whats the...</td>\n",
       "      <td>can not make any calls whats problem please le...</td>\n",
       "      <td>-0.1027</td>\n",
       "      <td>-0.1027</td>\n",
       "      <td>1</td>\n",
       "      <td>1</td>\n",
       "      <td>0</td>\n",
       "      <td>[{'label': 'negative', 'score': 0.754394471645...</td>\n",
       "      <td>[{'label': 'negative', 'score': 0.826441526412...</td>\n",
       "    </tr>\n",
       "    <tr>\n",
       "      <th>1</th>\n",
       "      <td>1544038</td>\n",
       "      <td>478295</td>\n",
       "      <td>@115714 @sprintcare I get almost no service af...</td>\n",
       "      <td>get almost no after moving LA. What wrong awfu...</td>\n",
       "      <td>-0.8109</td>\n",
       "      <td>-0.8109</td>\n",
       "      <td>0</td>\n",
       "      <td>0</td>\n",
       "      <td>0</td>\n",
       "      <td>[{'label': 'negative', 'score': 0.937077403068...</td>\n",
       "      <td>[{'label': 'negative', 'score': 0.957944631576...</td>\n",
       "    </tr>\n",
       "    <tr>\n",
       "      <th>2</th>\n",
       "      <td>2753722</td>\n",
       "      <td>770395</td>\n",
       "      <td>@sprintcare to replace this one without paying...</td>\n",
       "      <td>replace one without paying an early upgrade fe...</td>\n",
       "      <td>0.0772</td>\n",
       "      <td>0.0772</td>\n",
       "      <td>1</td>\n",
       "      <td>1</td>\n",
       "      <td>0</td>\n",
       "      <td>[{'label': 'neutral', 'score': 0.4969252347946...</td>\n",
       "      <td>[{'label': 'negative', 'score': 0.630530178546...</td>\n",
       "    </tr>\n",
       "    <tr>\n",
       "      <th>3</th>\n",
       "      <td>2753720</td>\n",
       "      <td>770395</td>\n",
       "      <td>@sprintcare done</td>\n",
       "      <td>done</td>\n",
       "      <td>0.0000</td>\n",
       "      <td>0.0000</td>\n",
       "      <td>1</td>\n",
       "      <td>1</td>\n",
       "      <td>0</td>\n",
       "      <td>[{'label': 'positive', 'score': 0.446636348962...</td>\n",
       "      <td>[{'label': 'neutral', 'score': 0.7879346609115...</td>\n",
       "    </tr>\n",
       "    <tr>\n",
       "      <th>4</th>\n",
       "      <td>2753719</td>\n",
       "      <td>770395</td>\n",
       "      <td>@sprintcare get any early upgrade.  My less th...</td>\n",
       "      <td>get any early upgrade. My less than year old d...</td>\n",
       "      <td>0.0000</td>\n",
       "      <td>0.0000</td>\n",
       "      <td>1</td>\n",
       "      <td>1</td>\n",
       "      <td>0</td>\n",
       "      <td>[{'label': 'negative', 'score': 0.922085762023...</td>\n",
       "      <td>[{'label': 'negative', 'score': 0.936681747436...</td>\n",
       "    </tr>\n",
       "  </tbody>\n",
       "</table>\n",
       "</div>"
      ],
      "text/plain": [
       "   tweet_id author_id                                               text  \\\n",
       "0   1278330    419157  @sprintcare I can not make any calls whats the...   \n",
       "1   1544038    478295  @115714 @sprintcare I get almost no service af...   \n",
       "2   2753722    770395  @sprintcare to replace this one without paying...   \n",
       "3   2753720    770395                                   @sprintcare done   \n",
       "4   2753719    770395  @sprintcare get any early upgrade.  My less th...   \n",
       "\n",
       "                                               clean  vader_sentiment_clean  \\\n",
       "0  can not make any calls whats problem please le...                -0.1027   \n",
       "1  get almost no after moving LA. What wrong awfu...                -0.8109   \n",
       "2  replace one without paying an early upgrade fe...                 0.0772   \n",
       "3                                               done                 0.0000   \n",
       "4  get any early upgrade. My less than year old d...                 0.0000   \n",
       "\n",
       "   vader_sentiment_noclean  vader_clean_class  vader_noclean_class  \\\n",
       "0                  -0.1027                  1                    1   \n",
       "1                  -0.8109                  0                    0   \n",
       "2                   0.0772                  1                    1   \n",
       "3                   0.0000                  1                    1   \n",
       "4                   0.0000                  1                    1   \n",
       "\n",
       "   vader_class_compare                                       roberta_pred  \\\n",
       "0                    0  [{'label': 'negative', 'score': 0.754394471645...   \n",
       "1                    0  [{'label': 'negative', 'score': 0.937077403068...   \n",
       "2                    0  [{'label': 'neutral', 'score': 0.4969252347946...   \n",
       "3                    0  [{'label': 'positive', 'score': 0.446636348962...   \n",
       "4                    0  [{'label': 'negative', 'score': 0.922085762023...   \n",
       "\n",
       "                               roberta_pred_no_clean  \n",
       "0  [{'label': 'negative', 'score': 0.826441526412...  \n",
       "1  [{'label': 'negative', 'score': 0.957944631576...  \n",
       "2  [{'label': 'negative', 'score': 0.630530178546...  \n",
       "3  [{'label': 'neutral', 'score': 0.7879346609115...  \n",
       "4  [{'label': 'negative', 'score': 0.936681747436...  "
      ]
     },
     "execution_count": 53,
     "metadata": {},
     "output_type": "execute_result"
    }
   ],
   "source": [
    "customer.head()"
   ]
  },
  {
   "cell_type": "code",
   "execution_count": 54,
   "id": "90a86395",
   "metadata": {},
   "outputs": [],
   "source": [
    "# Break the list of dictionaries into new classified columns for interim eval\n",
    "customer[['r_clean_format_label', 'r_clean_format_score']] = customer['roberta_pred'].agg(pd.Series)[0].agg(pd.Series)                                                              \n",
    "customer[['r_noclean_label', 'r_noclean_score']] = customer['roberta_pred_no_clean'].agg(pd.Series)[0].agg(pd.Series)"
   ]
  },
  {
   "cell_type": "code",
   "execution_count": 55,
   "id": "c4d13435",
   "metadata": {
    "scrolled": true
   },
   "outputs": [
    {
     "data": {
      "text/html": [
       "<div>\n",
       "<style scoped>\n",
       "    .dataframe tbody tr th:only-of-type {\n",
       "        vertical-align: middle;\n",
       "    }\n",
       "\n",
       "    .dataframe tbody tr th {\n",
       "        vertical-align: top;\n",
       "    }\n",
       "\n",
       "    .dataframe thead th {\n",
       "        text-align: right;\n",
       "    }\n",
       "</style>\n",
       "<table border=\"1\" class=\"dataframe\">\n",
       "  <thead>\n",
       "    <tr style=\"text-align: right;\">\n",
       "      <th></th>\n",
       "      <th>tweet_id</th>\n",
       "      <th>author_id</th>\n",
       "      <th>text</th>\n",
       "      <th>clean</th>\n",
       "      <th>vader_sentiment_clean</th>\n",
       "      <th>vader_sentiment_noclean</th>\n",
       "      <th>vader_clean_class</th>\n",
       "      <th>vader_noclean_class</th>\n",
       "      <th>vader_class_compare</th>\n",
       "      <th>roberta_pred</th>\n",
       "      <th>roberta_pred_no_clean</th>\n",
       "      <th>r_clean_format_label</th>\n",
       "      <th>r_clean_format_score</th>\n",
       "      <th>r_noclean_label</th>\n",
       "      <th>r_noclean_score</th>\n",
       "    </tr>\n",
       "  </thead>\n",
       "  <tbody>\n",
       "    <tr>\n",
       "      <th>0</th>\n",
       "      <td>1278330</td>\n",
       "      <td>419157</td>\n",
       "      <td>@sprintcare I can not make any calls whats the...</td>\n",
       "      <td>can not make any calls whats problem please le...</td>\n",
       "      <td>-0.1027</td>\n",
       "      <td>-0.1027</td>\n",
       "      <td>1</td>\n",
       "      <td>1</td>\n",
       "      <td>0</td>\n",
       "      <td>[{'label': 'negative', 'score': 0.754394471645...</td>\n",
       "      <td>[{'label': 'negative', 'score': 0.826441526412...</td>\n",
       "      <td>negative</td>\n",
       "      <td>0.754394</td>\n",
       "      <td>negative</td>\n",
       "      <td>0.826442</td>\n",
       "    </tr>\n",
       "    <tr>\n",
       "      <th>1</th>\n",
       "      <td>1544038</td>\n",
       "      <td>478295</td>\n",
       "      <td>@115714 @sprintcare I get almost no service af...</td>\n",
       "      <td>get almost no after moving LA. What wrong awfu...</td>\n",
       "      <td>-0.8109</td>\n",
       "      <td>-0.8109</td>\n",
       "      <td>0</td>\n",
       "      <td>0</td>\n",
       "      <td>0</td>\n",
       "      <td>[{'label': 'negative', 'score': 0.937077403068...</td>\n",
       "      <td>[{'label': 'negative', 'score': 0.957944631576...</td>\n",
       "      <td>negative</td>\n",
       "      <td>0.937077</td>\n",
       "      <td>negative</td>\n",
       "      <td>0.957945</td>\n",
       "    </tr>\n",
       "    <tr>\n",
       "      <th>2</th>\n",
       "      <td>2753722</td>\n",
       "      <td>770395</td>\n",
       "      <td>@sprintcare to replace this one without paying...</td>\n",
       "      <td>replace one without paying an early upgrade fe...</td>\n",
       "      <td>0.0772</td>\n",
       "      <td>0.0772</td>\n",
       "      <td>1</td>\n",
       "      <td>1</td>\n",
       "      <td>0</td>\n",
       "      <td>[{'label': 'neutral', 'score': 0.4969252347946...</td>\n",
       "      <td>[{'label': 'negative', 'score': 0.630530178546...</td>\n",
       "      <td>neutral</td>\n",
       "      <td>0.496925</td>\n",
       "      <td>negative</td>\n",
       "      <td>0.630530</td>\n",
       "    </tr>\n",
       "    <tr>\n",
       "      <th>3</th>\n",
       "      <td>2753720</td>\n",
       "      <td>770395</td>\n",
       "      <td>@sprintcare done</td>\n",
       "      <td>done</td>\n",
       "      <td>0.0000</td>\n",
       "      <td>0.0000</td>\n",
       "      <td>1</td>\n",
       "      <td>1</td>\n",
       "      <td>0</td>\n",
       "      <td>[{'label': 'positive', 'score': 0.446636348962...</td>\n",
       "      <td>[{'label': 'neutral', 'score': 0.7879346609115...</td>\n",
       "      <td>positive</td>\n",
       "      <td>0.446636</td>\n",
       "      <td>neutral</td>\n",
       "      <td>0.787935</td>\n",
       "    </tr>\n",
       "    <tr>\n",
       "      <th>4</th>\n",
       "      <td>2753719</td>\n",
       "      <td>770395</td>\n",
       "      <td>@sprintcare get any early upgrade.  My less th...</td>\n",
       "      <td>get any early upgrade. My less than year old d...</td>\n",
       "      <td>0.0000</td>\n",
       "      <td>0.0000</td>\n",
       "      <td>1</td>\n",
       "      <td>1</td>\n",
       "      <td>0</td>\n",
       "      <td>[{'label': 'negative', 'score': 0.922085762023...</td>\n",
       "      <td>[{'label': 'negative', 'score': 0.936681747436...</td>\n",
       "      <td>negative</td>\n",
       "      <td>0.922086</td>\n",
       "      <td>negative</td>\n",
       "      <td>0.936682</td>\n",
       "    </tr>\n",
       "  </tbody>\n",
       "</table>\n",
       "</div>"
      ],
      "text/plain": [
       "   tweet_id author_id                                               text  \\\n",
       "0   1278330    419157  @sprintcare I can not make any calls whats the...   \n",
       "1   1544038    478295  @115714 @sprintcare I get almost no service af...   \n",
       "2   2753722    770395  @sprintcare to replace this one without paying...   \n",
       "3   2753720    770395                                   @sprintcare done   \n",
       "4   2753719    770395  @sprintcare get any early upgrade.  My less th...   \n",
       "\n",
       "                                               clean  vader_sentiment_clean  \\\n",
       "0  can not make any calls whats problem please le...                -0.1027   \n",
       "1  get almost no after moving LA. What wrong awfu...                -0.8109   \n",
       "2  replace one without paying an early upgrade fe...                 0.0772   \n",
       "3                                               done                 0.0000   \n",
       "4  get any early upgrade. My less than year old d...                 0.0000   \n",
       "\n",
       "   vader_sentiment_noclean  vader_clean_class  vader_noclean_class  \\\n",
       "0                  -0.1027                  1                    1   \n",
       "1                  -0.8109                  0                    0   \n",
       "2                   0.0772                  1                    1   \n",
       "3                   0.0000                  1                    1   \n",
       "4                   0.0000                  1                    1   \n",
       "\n",
       "   vader_class_compare                                       roberta_pred  \\\n",
       "0                    0  [{'label': 'negative', 'score': 0.754394471645...   \n",
       "1                    0  [{'label': 'negative', 'score': 0.937077403068...   \n",
       "2                    0  [{'label': 'neutral', 'score': 0.4969252347946...   \n",
       "3                    0  [{'label': 'positive', 'score': 0.446636348962...   \n",
       "4                    0  [{'label': 'negative', 'score': 0.922085762023...   \n",
       "\n",
       "                               roberta_pred_no_clean r_clean_format_label  \\\n",
       "0  [{'label': 'negative', 'score': 0.826441526412...             negative   \n",
       "1  [{'label': 'negative', 'score': 0.957944631576...             negative   \n",
       "2  [{'label': 'negative', 'score': 0.630530178546...              neutral   \n",
       "3  [{'label': 'neutral', 'score': 0.7879346609115...             positive   \n",
       "4  [{'label': 'negative', 'score': 0.936681747436...             negative   \n",
       "\n",
       "   r_clean_format_score r_noclean_label  r_noclean_score  \n",
       "0              0.754394        negative         0.826442  \n",
       "1              0.937077        negative         0.957945  \n",
       "2              0.496925        negative         0.630530  \n",
       "3              0.446636         neutral         0.787935  \n",
       "4              0.922086        negative         0.936682  "
      ]
     },
     "execution_count": 55,
     "metadata": {},
     "output_type": "execute_result"
    }
   ],
   "source": [
    "customer.head()"
   ]
  },
  {
   "cell_type": "code",
   "execution_count": 56,
   "id": "b52ab078",
   "metadata": {},
   "outputs": [],
   "source": [
    "# Fill the value with 2 if label == POSITIVE, 1 if label == NEUTRAL else with 0 (NEGATIVE)\n",
    "\n",
    "customer['roberta_class_clean']= customer['r_clean_format_label'].apply(lambda c:  2 if c == 'positive' else 1 if c =='neutral' else 0)\n",
    "customer['roberta_class_noclean']= customer['r_noclean_label'].apply(lambda c:  2 if c == 'positive' else 1 if c =='neutral' else 0)"
   ]
  },
  {
   "cell_type": "code",
   "execution_count": 57,
   "id": "bb4f9153",
   "metadata": {
    "scrolled": true
   },
   "outputs": [
    {
     "data": {
      "text/html": [
       "<div>\n",
       "<style scoped>\n",
       "    .dataframe tbody tr th:only-of-type {\n",
       "        vertical-align: middle;\n",
       "    }\n",
       "\n",
       "    .dataframe tbody tr th {\n",
       "        vertical-align: top;\n",
       "    }\n",
       "\n",
       "    .dataframe thead th {\n",
       "        text-align: right;\n",
       "    }\n",
       "</style>\n",
       "<table border=\"1\" class=\"dataframe\">\n",
       "  <thead>\n",
       "    <tr style=\"text-align: right;\">\n",
       "      <th></th>\n",
       "      <th>tweet_id</th>\n",
       "      <th>author_id</th>\n",
       "      <th>text</th>\n",
       "      <th>clean</th>\n",
       "      <th>vader_sentiment_clean</th>\n",
       "      <th>vader_sentiment_noclean</th>\n",
       "      <th>vader_clean_class</th>\n",
       "      <th>vader_noclean_class</th>\n",
       "      <th>vader_class_compare</th>\n",
       "      <th>roberta_pred</th>\n",
       "      <th>roberta_pred_no_clean</th>\n",
       "      <th>r_clean_format_label</th>\n",
       "      <th>r_clean_format_score</th>\n",
       "      <th>r_noclean_label</th>\n",
       "      <th>r_noclean_score</th>\n",
       "      <th>roberta_class_clean</th>\n",
       "      <th>roberta_class_noclean</th>\n",
       "    </tr>\n",
       "  </thead>\n",
       "  <tbody>\n",
       "    <tr>\n",
       "      <th>0</th>\n",
       "      <td>1278330</td>\n",
       "      <td>419157</td>\n",
       "      <td>@sprintcare I can not make any calls whats the...</td>\n",
       "      <td>can not make any calls whats problem please le...</td>\n",
       "      <td>-0.1027</td>\n",
       "      <td>-0.1027</td>\n",
       "      <td>1</td>\n",
       "      <td>1</td>\n",
       "      <td>0</td>\n",
       "      <td>[{'label': 'negative', 'score': 0.754394471645...</td>\n",
       "      <td>[{'label': 'negative', 'score': 0.826441526412...</td>\n",
       "      <td>negative</td>\n",
       "      <td>0.754394</td>\n",
       "      <td>negative</td>\n",
       "      <td>0.826442</td>\n",
       "      <td>0</td>\n",
       "      <td>0</td>\n",
       "    </tr>\n",
       "    <tr>\n",
       "      <th>1</th>\n",
       "      <td>1544038</td>\n",
       "      <td>478295</td>\n",
       "      <td>@115714 @sprintcare I get almost no service af...</td>\n",
       "      <td>get almost no after moving LA. What wrong awfu...</td>\n",
       "      <td>-0.8109</td>\n",
       "      <td>-0.8109</td>\n",
       "      <td>0</td>\n",
       "      <td>0</td>\n",
       "      <td>0</td>\n",
       "      <td>[{'label': 'negative', 'score': 0.937077403068...</td>\n",
       "      <td>[{'label': 'negative', 'score': 0.957944631576...</td>\n",
       "      <td>negative</td>\n",
       "      <td>0.937077</td>\n",
       "      <td>negative</td>\n",
       "      <td>0.957945</td>\n",
       "      <td>0</td>\n",
       "      <td>0</td>\n",
       "    </tr>\n",
       "  </tbody>\n",
       "</table>\n",
       "</div>"
      ],
      "text/plain": [
       "   tweet_id author_id                                               text  \\\n",
       "0   1278330    419157  @sprintcare I can not make any calls whats the...   \n",
       "1   1544038    478295  @115714 @sprintcare I get almost no service af...   \n",
       "\n",
       "                                               clean  vader_sentiment_clean  \\\n",
       "0  can not make any calls whats problem please le...                -0.1027   \n",
       "1  get almost no after moving LA. What wrong awfu...                -0.8109   \n",
       "\n",
       "   vader_sentiment_noclean  vader_clean_class  vader_noclean_class  \\\n",
       "0                  -0.1027                  1                    1   \n",
       "1                  -0.8109                  0                    0   \n",
       "\n",
       "   vader_class_compare                                       roberta_pred  \\\n",
       "0                    0  [{'label': 'negative', 'score': 0.754394471645...   \n",
       "1                    0  [{'label': 'negative', 'score': 0.937077403068...   \n",
       "\n",
       "                               roberta_pred_no_clean r_clean_format_label  \\\n",
       "0  [{'label': 'negative', 'score': 0.826441526412...             negative   \n",
       "1  [{'label': 'negative', 'score': 0.957944631576...             negative   \n",
       "\n",
       "   r_clean_format_score r_noclean_label  r_noclean_score  roberta_class_clean  \\\n",
       "0              0.754394        negative         0.826442                    0   \n",
       "1              0.937077        negative         0.957945                    0   \n",
       "\n",
       "   roberta_class_noclean  \n",
       "0                      0  \n",
       "1                      0  "
      ]
     },
     "execution_count": 57,
     "metadata": {},
     "output_type": "execute_result"
    }
   ],
   "source": [
    "customer.head(2)"
   ]
  },
  {
   "cell_type": "code",
   "execution_count": 58,
   "id": "523c4f08",
   "metadata": {},
   "outputs": [],
   "source": [
    "analyze_results = customer.drop(['author_id', 'vader_class_compare', \n",
    "                                 'roberta_pred', 'roberta_pred_no_clean',\n",
    "                                 'r_clean_format_score', 'r_noclean_score'], axis = 1)"
   ]
  },
  {
   "cell_type": "code",
   "execution_count": 59,
   "id": "ec1d34a5",
   "metadata": {
    "scrolled": true
   },
   "outputs": [
    {
     "data": {
      "text/html": [
       "<div>\n",
       "<style scoped>\n",
       "    .dataframe tbody tr th:only-of-type {\n",
       "        vertical-align: middle;\n",
       "    }\n",
       "\n",
       "    .dataframe tbody tr th {\n",
       "        vertical-align: top;\n",
       "    }\n",
       "\n",
       "    .dataframe thead th {\n",
       "        text-align: right;\n",
       "    }\n",
       "</style>\n",
       "<table border=\"1\" class=\"dataframe\">\n",
       "  <thead>\n",
       "    <tr style=\"text-align: right;\">\n",
       "      <th></th>\n",
       "      <th>tweet_id</th>\n",
       "      <th>text</th>\n",
       "      <th>clean</th>\n",
       "      <th>vader_sentiment_clean</th>\n",
       "      <th>vader_sentiment_noclean</th>\n",
       "      <th>vader_clean_class</th>\n",
       "      <th>vader_noclean_class</th>\n",
       "      <th>r_clean_format_label</th>\n",
       "      <th>r_noclean_label</th>\n",
       "      <th>roberta_class_clean</th>\n",
       "      <th>roberta_class_noclean</th>\n",
       "    </tr>\n",
       "  </thead>\n",
       "  <tbody>\n",
       "    <tr>\n",
       "      <th>0</th>\n",
       "      <td>1278330</td>\n",
       "      <td>@sprintcare I can not make any calls whats the...</td>\n",
       "      <td>can not make any calls whats problem please le...</td>\n",
       "      <td>-0.1027</td>\n",
       "      <td>-0.1027</td>\n",
       "      <td>1</td>\n",
       "      <td>1</td>\n",
       "      <td>negative</td>\n",
       "      <td>negative</td>\n",
       "      <td>0</td>\n",
       "      <td>0</td>\n",
       "    </tr>\n",
       "    <tr>\n",
       "      <th>1</th>\n",
       "      <td>1544038</td>\n",
       "      <td>@115714 @sprintcare I get almost no service af...</td>\n",
       "      <td>get almost no after moving LA. What wrong awfu...</td>\n",
       "      <td>-0.8109</td>\n",
       "      <td>-0.8109</td>\n",
       "      <td>0</td>\n",
       "      <td>0</td>\n",
       "      <td>negative</td>\n",
       "      <td>negative</td>\n",
       "      <td>0</td>\n",
       "      <td>0</td>\n",
       "    </tr>\n",
       "    <tr>\n",
       "      <th>2</th>\n",
       "      <td>2753722</td>\n",
       "      <td>@sprintcare to replace this one without paying...</td>\n",
       "      <td>replace one without paying an early upgrade fe...</td>\n",
       "      <td>0.0772</td>\n",
       "      <td>0.0772</td>\n",
       "      <td>1</td>\n",
       "      <td>1</td>\n",
       "      <td>neutral</td>\n",
       "      <td>negative</td>\n",
       "      <td>1</td>\n",
       "      <td>0</td>\n",
       "    </tr>\n",
       "    <tr>\n",
       "      <th>3</th>\n",
       "      <td>2753720</td>\n",
       "      <td>@sprintcare done</td>\n",
       "      <td>done</td>\n",
       "      <td>0.0000</td>\n",
       "      <td>0.0000</td>\n",
       "      <td>1</td>\n",
       "      <td>1</td>\n",
       "      <td>positive</td>\n",
       "      <td>neutral</td>\n",
       "      <td>2</td>\n",
       "      <td>1</td>\n",
       "    </tr>\n",
       "    <tr>\n",
       "      <th>4</th>\n",
       "      <td>2753719</td>\n",
       "      <td>@sprintcare get any early upgrade.  My less th...</td>\n",
       "      <td>get any early upgrade. My less than year old d...</td>\n",
       "      <td>0.0000</td>\n",
       "      <td>0.0000</td>\n",
       "      <td>1</td>\n",
       "      <td>1</td>\n",
       "      <td>negative</td>\n",
       "      <td>negative</td>\n",
       "      <td>0</td>\n",
       "      <td>0</td>\n",
       "    </tr>\n",
       "  </tbody>\n",
       "</table>\n",
       "</div>"
      ],
      "text/plain": [
       "   tweet_id                                               text  \\\n",
       "0   1278330  @sprintcare I can not make any calls whats the...   \n",
       "1   1544038  @115714 @sprintcare I get almost no service af...   \n",
       "2   2753722  @sprintcare to replace this one without paying...   \n",
       "3   2753720                                   @sprintcare done   \n",
       "4   2753719  @sprintcare get any early upgrade.  My less th...   \n",
       "\n",
       "                                               clean  vader_sentiment_clean  \\\n",
       "0  can not make any calls whats problem please le...                -0.1027   \n",
       "1  get almost no after moving LA. What wrong awfu...                -0.8109   \n",
       "2  replace one without paying an early upgrade fe...                 0.0772   \n",
       "3                                               done                 0.0000   \n",
       "4  get any early upgrade. My less than year old d...                 0.0000   \n",
       "\n",
       "   vader_sentiment_noclean  vader_clean_class  vader_noclean_class  \\\n",
       "0                  -0.1027                  1                    1   \n",
       "1                  -0.8109                  0                    0   \n",
       "2                   0.0772                  1                    1   \n",
       "3                   0.0000                  1                    1   \n",
       "4                   0.0000                  1                    1   \n",
       "\n",
       "  r_clean_format_label r_noclean_label  roberta_class_clean  \\\n",
       "0             negative        negative                    0   \n",
       "1             negative        negative                    0   \n",
       "2              neutral        negative                    1   \n",
       "3             positive         neutral                    2   \n",
       "4             negative        negative                    0   \n",
       "\n",
       "   roberta_class_noclean  \n",
       "0                      0  \n",
       "1                      0  \n",
       "2                      0  \n",
       "3                      1  \n",
       "4                      0  "
      ]
     },
     "execution_count": 59,
     "metadata": {},
     "output_type": "execute_result"
    }
   ],
   "source": [
    "analyze_results.head()"
   ]
  },
  {
   "cell_type": "code",
   "execution_count": 60,
   "id": "9cb80dff",
   "metadata": {
    "scrolled": true
   },
   "outputs": [
    {
     "data": {
      "text/html": [
       "<div>\n",
       "<style scoped>\n",
       "    .dataframe tbody tr th:only-of-type {\n",
       "        vertical-align: middle;\n",
       "    }\n",
       "\n",
       "    .dataframe tbody tr th {\n",
       "        vertical-align: top;\n",
       "    }\n",
       "\n",
       "    .dataframe thead th {\n",
       "        text-align: right;\n",
       "    }\n",
       "</style>\n",
       "<table border=\"1\" class=\"dataframe\">\n",
       "  <thead>\n",
       "    <tr style=\"text-align: right;\">\n",
       "      <th></th>\n",
       "      <th>tweet_id</th>\n",
       "      <th>text</th>\n",
       "      <th>clean</th>\n",
       "      <th>vader_sentiment_clean</th>\n",
       "      <th>vader_sentiment_noclean</th>\n",
       "      <th>vader_clean_class</th>\n",
       "      <th>vader_noclean_class</th>\n",
       "      <th>r_clean_format_label</th>\n",
       "      <th>r_noclean_label</th>\n",
       "      <th>roberta_class_clean</th>\n",
       "      <th>roberta_class_noclean</th>\n",
       "      <th>clean_match</th>\n",
       "      <th>noclean_match</th>\n",
       "    </tr>\n",
       "  </thead>\n",
       "  <tbody>\n",
       "    <tr>\n",
       "      <th>0</th>\n",
       "      <td>1278330</td>\n",
       "      <td>@sprintcare I can not make any calls whats the...</td>\n",
       "      <td>can not make any calls whats problem please le...</td>\n",
       "      <td>-0.1027</td>\n",
       "      <td>-0.1027</td>\n",
       "      <td>1</td>\n",
       "      <td>1</td>\n",
       "      <td>negative</td>\n",
       "      <td>negative</td>\n",
       "      <td>0</td>\n",
       "      <td>0</td>\n",
       "      <td>False</td>\n",
       "      <td>False</td>\n",
       "    </tr>\n",
       "    <tr>\n",
       "      <th>1</th>\n",
       "      <td>1544038</td>\n",
       "      <td>@115714 @sprintcare I get almost no service af...</td>\n",
       "      <td>get almost no after moving LA. What wrong awfu...</td>\n",
       "      <td>-0.8109</td>\n",
       "      <td>-0.8109</td>\n",
       "      <td>0</td>\n",
       "      <td>0</td>\n",
       "      <td>negative</td>\n",
       "      <td>negative</td>\n",
       "      <td>0</td>\n",
       "      <td>0</td>\n",
       "      <td>True</td>\n",
       "      <td>True</td>\n",
       "    </tr>\n",
       "    <tr>\n",
       "      <th>2</th>\n",
       "      <td>2753722</td>\n",
       "      <td>@sprintcare to replace this one without paying...</td>\n",
       "      <td>replace one without paying an early upgrade fe...</td>\n",
       "      <td>0.0772</td>\n",
       "      <td>0.0772</td>\n",
       "      <td>1</td>\n",
       "      <td>1</td>\n",
       "      <td>neutral</td>\n",
       "      <td>negative</td>\n",
       "      <td>1</td>\n",
       "      <td>0</td>\n",
       "      <td>True</td>\n",
       "      <td>False</td>\n",
       "    </tr>\n",
       "    <tr>\n",
       "      <th>3</th>\n",
       "      <td>2753720</td>\n",
       "      <td>@sprintcare done</td>\n",
       "      <td>done</td>\n",
       "      <td>0.0000</td>\n",
       "      <td>0.0000</td>\n",
       "      <td>1</td>\n",
       "      <td>1</td>\n",
       "      <td>positive</td>\n",
       "      <td>neutral</td>\n",
       "      <td>2</td>\n",
       "      <td>1</td>\n",
       "      <td>False</td>\n",
       "      <td>True</td>\n",
       "    </tr>\n",
       "    <tr>\n",
       "      <th>4</th>\n",
       "      <td>2753719</td>\n",
       "      <td>@sprintcare get any early upgrade.  My less th...</td>\n",
       "      <td>get any early upgrade. My less than year old d...</td>\n",
       "      <td>0.0000</td>\n",
       "      <td>0.0000</td>\n",
       "      <td>1</td>\n",
       "      <td>1</td>\n",
       "      <td>negative</td>\n",
       "      <td>negative</td>\n",
       "      <td>0</td>\n",
       "      <td>0</td>\n",
       "      <td>False</td>\n",
       "      <td>False</td>\n",
       "    </tr>\n",
       "    <tr>\n",
       "      <th>5</th>\n",
       "      <td>2753717</td>\n",
       "      <td>@sprintcare Thanks very much for your help!</td>\n",
       "      <td>Thanks very much help!</td>\n",
       "      <td>0.7327</td>\n",
       "      <td>0.7088</td>\n",
       "      <td>2</td>\n",
       "      <td>2</td>\n",
       "      <td>positive</td>\n",
       "      <td>positive</td>\n",
       "      <td>2</td>\n",
       "      <td>2</td>\n",
       "      <td>True</td>\n",
       "      <td>True</td>\n",
       "    </tr>\n",
       "    <tr>\n",
       "      <th>6</th>\n",
       "      <td>726098</td>\n",
       "      <td>@sprintcare . I live in a city not BFE and I'm...</td>\n",
       "      <td>. live city not BFE I'm sick tired getting thi...</td>\n",
       "      <td>0.5054</td>\n",
       "      <td>-0.4085</td>\n",
       "      <td>2</td>\n",
       "      <td>0</td>\n",
       "      <td>negative</td>\n",
       "      <td>negative</td>\n",
       "      <td>0</td>\n",
       "      <td>0</td>\n",
       "      <td>False</td>\n",
       "      <td>True</td>\n",
       "    </tr>\n",
       "  </tbody>\n",
       "</table>\n",
       "</div>"
      ],
      "text/plain": [
       "   tweet_id                                               text  \\\n",
       "0   1278330  @sprintcare I can not make any calls whats the...   \n",
       "1   1544038  @115714 @sprintcare I get almost no service af...   \n",
       "2   2753722  @sprintcare to replace this one without paying...   \n",
       "3   2753720                                   @sprintcare done   \n",
       "4   2753719  @sprintcare get any early upgrade.  My less th...   \n",
       "5   2753717        @sprintcare Thanks very much for your help!   \n",
       "6    726098  @sprintcare . I live in a city not BFE and I'm...   \n",
       "\n",
       "                                               clean  vader_sentiment_clean  \\\n",
       "0  can not make any calls whats problem please le...                -0.1027   \n",
       "1  get almost no after moving LA. What wrong awfu...                -0.8109   \n",
       "2  replace one without paying an early upgrade fe...                 0.0772   \n",
       "3                                               done                 0.0000   \n",
       "4  get any early upgrade. My less than year old d...                 0.0000   \n",
       "5                             Thanks very much help!                 0.7327   \n",
       "6  . live city not BFE I'm sick tired getting thi...                 0.5054   \n",
       "\n",
       "   vader_sentiment_noclean  vader_clean_class  vader_noclean_class  \\\n",
       "0                  -0.1027                  1                    1   \n",
       "1                  -0.8109                  0                    0   \n",
       "2                   0.0772                  1                    1   \n",
       "3                   0.0000                  1                    1   \n",
       "4                   0.0000                  1                    1   \n",
       "5                   0.7088                  2                    2   \n",
       "6                  -0.4085                  2                    0   \n",
       "\n",
       "  r_clean_format_label r_noclean_label  roberta_class_clean  \\\n",
       "0             negative        negative                    0   \n",
       "1             negative        negative                    0   \n",
       "2              neutral        negative                    1   \n",
       "3             positive         neutral                    2   \n",
       "4             negative        negative                    0   \n",
       "5             positive        positive                    2   \n",
       "6             negative        negative                    0   \n",
       "\n",
       "   roberta_class_noclean  clean_match  noclean_match  \n",
       "0                      0        False          False  \n",
       "1                      0         True           True  \n",
       "2                      0         True          False  \n",
       "3                      1        False           True  \n",
       "4                      0        False          False  \n",
       "5                      2         True           True  \n",
       "6                      0        False           True  "
      ]
     },
     "execution_count": 60,
     "metadata": {},
     "output_type": "execute_result"
    }
   ],
   "source": [
    "analyze_results[\"clean_match\"] = analyze_results [\"vader_clean_class\"] == analyze_results[\"roberta_class_clean\"]\n",
    "analyze_results[\"noclean_match\"] = analyze_results [\"vader_noclean_class\"] == analyze_results[\"roberta_class_noclean\"]\n",
    "analyze_results.head(7)"
   ]
  },
  {
   "cell_type": "markdown",
   "id": "d4b49b1f",
   "metadata": {},
   "source": [
    "### Check the data for model differences"
   ]
  },
  {
   "cell_type": "code",
   "execution_count": 61,
   "id": "987a377a",
   "metadata": {},
   "outputs": [
    {
     "data": {
      "text/html": [
       "<div>\n",
       "<style scoped>\n",
       "    .dataframe tbody tr th:only-of-type {\n",
       "        vertical-align: middle;\n",
       "    }\n",
       "\n",
       "    .dataframe tbody tr th {\n",
       "        vertical-align: top;\n",
       "    }\n",
       "\n",
       "    .dataframe thead th {\n",
       "        text-align: right;\n",
       "    }\n",
       "</style>\n",
       "<table border=\"1\" class=\"dataframe\">\n",
       "  <thead>\n",
       "    <tr style=\"text-align: right;\">\n",
       "      <th></th>\n",
       "      <th>tweet_id</th>\n",
       "      <th>text</th>\n",
       "      <th>clean</th>\n",
       "      <th>vader_sentiment_clean</th>\n",
       "      <th>vader_sentiment_noclean</th>\n",
       "      <th>vader_clean_class</th>\n",
       "      <th>vader_noclean_class</th>\n",
       "      <th>r_clean_format_label</th>\n",
       "      <th>r_noclean_label</th>\n",
       "      <th>roberta_class_clean</th>\n",
       "      <th>roberta_class_noclean</th>\n",
       "      <th>noclean_match</th>\n",
       "    </tr>\n",
       "    <tr>\n",
       "      <th>clean_match</th>\n",
       "      <th></th>\n",
       "      <th></th>\n",
       "      <th></th>\n",
       "      <th></th>\n",
       "      <th></th>\n",
       "      <th></th>\n",
       "      <th></th>\n",
       "      <th></th>\n",
       "      <th></th>\n",
       "      <th></th>\n",
       "      <th></th>\n",
       "      <th></th>\n",
       "    </tr>\n",
       "  </thead>\n",
       "  <tbody>\n",
       "    <tr>\n",
       "      <th>False</th>\n",
       "      <td>6115</td>\n",
       "      <td>6115</td>\n",
       "      <td>6115</td>\n",
       "      <td>6115</td>\n",
       "      <td>6115</td>\n",
       "      <td>6115</td>\n",
       "      <td>6115</td>\n",
       "      <td>6115</td>\n",
       "      <td>6115</td>\n",
       "      <td>6115</td>\n",
       "      <td>6115</td>\n",
       "      <td>6115</td>\n",
       "    </tr>\n",
       "    <tr>\n",
       "      <th>True</th>\n",
       "      <td>7596</td>\n",
       "      <td>7596</td>\n",
       "      <td>7596</td>\n",
       "      <td>7596</td>\n",
       "      <td>7596</td>\n",
       "      <td>7596</td>\n",
       "      <td>7596</td>\n",
       "      <td>7596</td>\n",
       "      <td>7596</td>\n",
       "      <td>7596</td>\n",
       "      <td>7596</td>\n",
       "      <td>7596</td>\n",
       "    </tr>\n",
       "  </tbody>\n",
       "</table>\n",
       "</div>"
      ],
      "text/plain": [
       "             tweet_id  text  clean  vader_sentiment_clean  \\\n",
       "clean_match                                                 \n",
       "False            6115  6115   6115                   6115   \n",
       "True             7596  7596   7596                   7596   \n",
       "\n",
       "             vader_sentiment_noclean  vader_clean_class  vader_noclean_class  \\\n",
       "clean_match                                                                    \n",
       "False                           6115               6115                 6115   \n",
       "True                            7596               7596                 7596   \n",
       "\n",
       "             r_clean_format_label  r_noclean_label  roberta_class_clean  \\\n",
       "clean_match                                                               \n",
       "False                        6115             6115                 6115   \n",
       "True                         7596             7596                 7596   \n",
       "\n",
       "             roberta_class_noclean  noclean_match  \n",
       "clean_match                                        \n",
       "False                         6115           6115  \n",
       "True                          7596           7596  "
      ]
     },
     "execution_count": 61,
     "metadata": {},
     "output_type": "execute_result"
    }
   ],
   "source": [
    "analyze_results.groupby(by=[\"clean_match\"]).count()"
   ]
  },
  {
   "cell_type": "code",
   "execution_count": 62,
   "id": "1d364c4f",
   "metadata": {},
   "outputs": [
    {
     "data": {
      "image/png": "[encoded data removed]",
      "text/plain": [
       "<Figure size 640x480 with 1 Axes>"
      ]
     },
     "metadata": {},
     "output_type": "display_data"
    }
   ],
   "source": [
    "df4 = pd.DataFrame({\"Model Agreement\": [7596],\"Model Disagreement\": [6115],},columns=[\"Model Agreement\", \"Model Disagreement\"])\n",
    "\n",
    "df4.plot.bar()\n",
    "plt.title('Cleaned Data Matches', color='black')\n",
    "capt = \"Data cleaning consisted of removing @handle, #tags, , high and low statistical occurences (CountVectorizer, Counter), etc.  Cleaned data matched at 55%\" \n",
    "plt.figtext(0.5, 0.01, capt, wrap = True, horizontalalignment = 'center', fontsize = 12)\n",
    "plt.legend(loc='center left', bbox_to_anchor=(1.0, 0.5))\n",
    "plt.show()"
   ]
  },
  {
   "cell_type": "code",
   "execution_count": 63,
   "id": "818b27a2",
   "metadata": {},
   "outputs": [],
   "source": [
    "# 012522:  Removing 'not' as stopword had a nominal reduction (<1%) reduction in the cleaned data matches; it actually reduced the matches"
   ]
  },
  {
   "cell_type": "code",
   "execution_count": 64,
   "id": "736cf7e0",
   "metadata": {
    "scrolled": true
   },
   "outputs": [
    {
     "data": {
      "text/html": [
       "<div>\n",
       "<style scoped>\n",
       "    .dataframe tbody tr th:only-of-type {\n",
       "        vertical-align: middle;\n",
       "    }\n",
       "\n",
       "    .dataframe tbody tr th {\n",
       "        vertical-align: top;\n",
       "    }\n",
       "\n",
       "    .dataframe thead th {\n",
       "        text-align: right;\n",
       "    }\n",
       "</style>\n",
       "<table border=\"1\" class=\"dataframe\">\n",
       "  <thead>\n",
       "    <tr style=\"text-align: right;\">\n",
       "      <th></th>\n",
       "      <th>tweet_id</th>\n",
       "      <th>text</th>\n",
       "      <th>clean</th>\n",
       "      <th>vader_sentiment_clean</th>\n",
       "      <th>vader_sentiment_noclean</th>\n",
       "      <th>vader_clean_class</th>\n",
       "      <th>vader_noclean_class</th>\n",
       "      <th>r_clean_format_label</th>\n",
       "      <th>r_noclean_label</th>\n",
       "      <th>roberta_class_clean</th>\n",
       "      <th>roberta_class_noclean</th>\n",
       "      <th>clean_match</th>\n",
       "    </tr>\n",
       "    <tr>\n",
       "      <th>noclean_match</th>\n",
       "      <th></th>\n",
       "      <th></th>\n",
       "      <th></th>\n",
       "      <th></th>\n",
       "      <th></th>\n",
       "      <th></th>\n",
       "      <th></th>\n",
       "      <th></th>\n",
       "      <th></th>\n",
       "      <th></th>\n",
       "      <th></th>\n",
       "      <th></th>\n",
       "    </tr>\n",
       "  </thead>\n",
       "  <tbody>\n",
       "    <tr>\n",
       "      <th>False</th>\n",
       "      <td>6648</td>\n",
       "      <td>6648</td>\n",
       "      <td>6648</td>\n",
       "      <td>6648</td>\n",
       "      <td>6648</td>\n",
       "      <td>6648</td>\n",
       "      <td>6648</td>\n",
       "      <td>6648</td>\n",
       "      <td>6648</td>\n",
       "      <td>6648</td>\n",
       "      <td>6648</td>\n",
       "      <td>6648</td>\n",
       "    </tr>\n",
       "    <tr>\n",
       "      <th>True</th>\n",
       "      <td>7063</td>\n",
       "      <td>7063</td>\n",
       "      <td>7063</td>\n",
       "      <td>7063</td>\n",
       "      <td>7063</td>\n",
       "      <td>7063</td>\n",
       "      <td>7063</td>\n",
       "      <td>7063</td>\n",
       "      <td>7063</td>\n",
       "      <td>7063</td>\n",
       "      <td>7063</td>\n",
       "      <td>7063</td>\n",
       "    </tr>\n",
       "  </tbody>\n",
       "</table>\n",
       "</div>"
      ],
      "text/plain": [
       "               tweet_id  text  clean  vader_sentiment_clean  \\\n",
       "noclean_match                                                 \n",
       "False              6648  6648   6648                   6648   \n",
       "True               7063  7063   7063                   7063   \n",
       "\n",
       "               vader_sentiment_noclean  vader_clean_class  \\\n",
       "noclean_match                                               \n",
       "False                             6648               6648   \n",
       "True                              7063               7063   \n",
       "\n",
       "               vader_noclean_class  r_clean_format_label  r_noclean_label  \\\n",
       "noclean_match                                                               \n",
       "False                         6648                  6648             6648   \n",
       "True                          7063                  7063             7063   \n",
       "\n",
       "               roberta_class_clean  roberta_class_noclean  clean_match  \n",
       "noclean_match                                                           \n",
       "False                         6648                   6648         6648  \n",
       "True                          7063                   7063         7063  "
      ]
     },
     "execution_count": 64,
     "metadata": {},
     "output_type": "execute_result"
    }
   ],
   "source": [
    "analyze_results.groupby(by=[\"noclean_match\"]).count()"
   ]
  },
  {
   "cell_type": "code",
   "execution_count": 65,
   "id": "c04ceb31",
   "metadata": {},
   "outputs": [
    {
     "data": {
      "image/png": "[encoded data removed]",
      "text/plain": [
       "<Figure size 640x480 with 1 Axes>"
      ]
     },
     "metadata": {},
     "output_type": "display_data"
    }
   ],
   "source": [
    "df5 = pd.DataFrame({\"Model Agreement\": [7063],\"Model Disagreement\": [6648],},columns=[\"Model Agreement\", \"Model Disagreement\"])\n",
    "\n",
    "df5.plot.bar()\n",
    "plt.title('Uncleaned Data Matches', color='black')\n",
    "capt = \"Data cleaning (removing @handle, #tags, , high and low statistical occurences (CountVectorizer, Counter), etc) not performed.  Uncleaned data matched at 51%\" \n",
    "plt.figtext(0.5, 0.01, capt, wrap = True, horizontalalignment = 'center', fontsize = 12)\n",
    "plt.legend(loc='center left', bbox_to_anchor=(1.0, 0.5))\n",
    "plt.show()"
   ]
  },
  {
   "cell_type": "markdown",
   "id": "1b4d7c6d",
   "metadata": {},
   "source": [
    "# Conclusions\n",
    "1. Cleaning the data had an effect on each models performance as well as the concurrence ratio (4% intersection difference when comparing clean vs unclean data)\n",
    "2. Not using a discrete 0 for NEUTRAL tag allowed for some flexibility in classification and improved model concurrence ratio by almost 4 points (-0.2499 < c < 0.2499)\n",
    "3. Since the cleaned data had a higher intersection rate, the  cleaned data concurrence can potentially be used for a statistical trained approach for a training and test split"
   ]
  },
  {
   "cell_type": "markdown",
   "id": "015a6234",
   "metadata": {},
   "source": [
    "### Let's visually exam the cleaned data concurrence results"
   ]
  },
  {
   "cell_type": "code",
   "execution_count": 66,
   "id": "9f6c1120",
   "metadata": {},
   "outputs": [
    {
     "name": "stdout",
     "output_type": "stream",
     "text": [
      "<class 'pandas.core.frame.DataFrame'>\n",
      "RangeIndex: 50 entries, 0 to 49\n",
      "Data columns (total 13 columns):\n",
      " #   Column                   Non-Null Count  Dtype  \n",
      "---  ------                   --------------  -----  \n",
      " 0   tweet_id                 50 non-null     int64  \n",
      " 1   text                     50 non-null     object \n",
      " 2   clean                    50 non-null     object \n",
      " 3   vader_sentiment_clean    50 non-null     float64\n",
      " 4   vader_sentiment_noclean  50 non-null     float64\n",
      " 5   vader_clean_class        50 non-null     int64  \n",
      " 6   vader_noclean_class      50 non-null     int64  \n",
      " 7   r_clean_format_label     50 non-null     object \n",
      " 8   r_noclean_label          50 non-null     object \n",
      " 9   roberta_class_clean      50 non-null     int64  \n",
      " 10  roberta_class_noclean    50 non-null     int64  \n",
      " 11  clean_match              50 non-null     bool   \n",
      " 12  noclean_match            50 non-null     bool   \n",
      "dtypes: bool(2), float64(2), int64(5), object(4)\n",
      "memory usage: 4.5+ KB\n"
     ]
    }
   ],
   "source": [
    "manual_exam = analyze_results[analyze_results['vader_clean_class']== analyze_results['roberta_class_clean']].sample(n=50)\n",
    "manual_exam.reset_index(drop=True, inplace=True)\n",
    "manual_exam.info()\n"
   ]
  },
  {
   "cell_type": "code",
   "execution_count": 67,
   "id": "bdf52108",
   "metadata": {},
   "outputs": [
    {
     "data": {
      "text/html": [
       "<div>\n",
       "<style scoped>\n",
       "    .dataframe tbody tr th:only-of-type {\n",
       "        vertical-align: middle;\n",
       "    }\n",
       "\n",
       "    .dataframe tbody tr th {\n",
       "        vertical-align: top;\n",
       "    }\n",
       "\n",
       "    .dataframe thead th {\n",
       "        text-align: right;\n",
       "    }\n",
       "</style>\n",
       "<table border=\"1\" class=\"dataframe\">\n",
       "  <thead>\n",
       "    <tr style=\"text-align: right;\">\n",
       "      <th></th>\n",
       "      <th>vader_clean_class</th>\n",
       "      <th>roberta_class_clean</th>\n",
       "    </tr>\n",
       "  </thead>\n",
       "  <tbody>\n",
       "    <tr>\n",
       "      <th>1</th>\n",
       "      <td>27</td>\n",
       "      <td>27</td>\n",
       "    </tr>\n",
       "    <tr>\n",
       "      <th>0</th>\n",
       "      <td>17</td>\n",
       "      <td>17</td>\n",
       "    </tr>\n",
       "    <tr>\n",
       "      <th>2</th>\n",
       "      <td>6</td>\n",
       "      <td>6</td>\n",
       "    </tr>\n",
       "  </tbody>\n",
       "</table>\n",
       "</div>"
      ],
      "text/plain": [
       "   vader_clean_class  roberta_class_clean\n",
       "1                 27                   27\n",
       "0                 17                   17\n",
       "2                  6                    6"
      ]
     },
     "execution_count": 67,
     "metadata": {},
     "output_type": "execute_result"
    }
   ],
   "source": [
    "manual_exam[['vader_clean_class','roberta_class_clean']].apply(pd.Series.value_counts)\n"
   ]
  },
  {
   "cell_type": "code",
   "execution_count": 68,
   "id": "dbc2f7b4",
   "metadata": {},
   "outputs": [],
   "source": [
    "# create function to print data about concurred values"
   ]
  },
  {
   "cell_type": "code",
   "execution_count": 69,
   "id": "770b45f7",
   "metadata": {},
   "outputs": [],
   "source": [
    "def print_concur_values(i):\n",
    "    print(manual_exam['text'].iloc[i])\n",
    "    print(\"Vader classification is \", manual_exam['vader_clean_class'].iloc[i])\n",
    "    print(\"Roberta classification is\", manual_exam['roberta_class_clean'].iloc[i]) "
   ]
  },
  {
   "cell_type": "code",
   "execution_count": 70,
   "id": "7a755cb7",
   "metadata": {},
   "outputs": [
    {
     "name": "stdout",
     "output_type": "stream",
     "text": [
      "@sprintcare My phone has been 3g all morning. Here in KcK, KS. Never had this issue before. Rebooted and the problem persists.\n",
      "Vader classification is  0\n",
      "Roberta classification is 0\n"
     ]
    }
   ],
   "source": [
    "print_concur_values(0)"
   ]
  },
  {
   "cell_type": "code",
   "execution_count": 71,
   "id": "50d2c488",
   "metadata": {},
   "outputs": [
    {
     "name": "stdout",
     "output_type": "stream",
     "text": [
      "@sprintcare Go downtown broadway, anytime of day, and try to send a text. That’s why. -NM\n",
      "Vader classification is  1\n",
      "Roberta classification is 1\n"
     ]
    }
   ],
   "source": [
    "print_concur_values(1)"
   ]
  },
  {
   "cell_type": "code",
   "execution_count": 72,
   "id": "8160f684",
   "metadata": {},
   "outputs": [
    {
     "name": "stdout",
     "output_type": "stream",
     "text": [
      "@sprintcare I thought you were slowing my data down, but then my neighbor asked do I have weak service bc she hasn't had reception lately.\n",
      "Vader classification is  0\n",
      "Roberta classification is 0\n"
     ]
    }
   ],
   "source": [
    "print_concur_values(2)"
   ]
  },
  {
   "cell_type": "markdown",
   "id": "2ca83425",
   "metadata": {},
   "source": [
    "### From the looks of the predictions, the models both performed well to identify negative, positive and neutral sentiments\n",
    "### Now let's see why the data that did not match differed in predictions"
   ]
  },
  {
   "cell_type": "code",
   "execution_count": 73,
   "id": "bc12be51",
   "metadata": {},
   "outputs": [
    {
     "name": "stdout",
     "output_type": "stream",
     "text": [
      "<class 'pandas.core.frame.DataFrame'>\n",
      "Int64Index: 50 entries, 11600 to 12941\n",
      "Data columns (total 13 columns):\n",
      " #   Column                   Non-Null Count  Dtype  \n",
      "---  ------                   --------------  -----  \n",
      " 0   tweet_id                 50 non-null     int64  \n",
      " 1   text                     50 non-null     object \n",
      " 2   clean                    50 non-null     object \n",
      " 3   vader_sentiment_clean    50 non-null     float64\n",
      " 4   vader_sentiment_noclean  50 non-null     float64\n",
      " 5   vader_clean_class        50 non-null     int64  \n",
      " 6   vader_noclean_class      50 non-null     int64  \n",
      " 7   r_clean_format_label     50 non-null     object \n",
      " 8   r_noclean_label          50 non-null     object \n",
      " 9   roberta_class_clean      50 non-null     int64  \n",
      " 10  roberta_class_noclean    50 non-null     int64  \n",
      " 11  clean_match              50 non-null     bool   \n",
      " 12  noclean_match            50 non-null     bool   \n",
      "dtypes: bool(2), float64(2), int64(5), object(4)\n",
      "memory usage: 4.8+ KB\n"
     ]
    }
   ],
   "source": [
    "visual_exam_noconcur = analyze_results[analyze_results['vader_clean_class']!= analyze_results['roberta_class_clean']].sample(n=50)\n",
    "visual_exam_noconcur.info()\n"
   ]
  },
  {
   "cell_type": "code",
   "execution_count": 74,
   "id": "9d9b4731",
   "metadata": {},
   "outputs": [
    {
     "data": {
      "text/html": [
       "<div>\n",
       "<style scoped>\n",
       "    .dataframe tbody tr th:only-of-type {\n",
       "        vertical-align: middle;\n",
       "    }\n",
       "\n",
       "    .dataframe tbody tr th {\n",
       "        vertical-align: top;\n",
       "    }\n",
       "\n",
       "    .dataframe thead th {\n",
       "        text-align: right;\n",
       "    }\n",
       "</style>\n",
       "<table border=\"1\" class=\"dataframe\">\n",
       "  <thead>\n",
       "    <tr style=\"text-align: right;\">\n",
       "      <th></th>\n",
       "      <th>vader_noclean_class</th>\n",
       "      <th>roberta_class_noclean</th>\n",
       "    </tr>\n",
       "  </thead>\n",
       "  <tbody>\n",
       "    <tr>\n",
       "      <th>0</th>\n",
       "      <td>17</td>\n",
       "      <td>24</td>\n",
       "    </tr>\n",
       "    <tr>\n",
       "      <th>1</th>\n",
       "      <td>27</td>\n",
       "      <td>22</td>\n",
       "    </tr>\n",
       "    <tr>\n",
       "      <th>2</th>\n",
       "      <td>6</td>\n",
       "      <td>4</td>\n",
       "    </tr>\n",
       "  </tbody>\n",
       "</table>\n",
       "</div>"
      ],
      "text/plain": [
       "   vader_noclean_class  roberta_class_noclean\n",
       "0                   17                     24\n",
       "1                   27                     22\n",
       "2                    6                      4"
      ]
     },
     "execution_count": 74,
     "metadata": {},
     "output_type": "execute_result"
    }
   ],
   "source": [
    "manual_exam[['vader_noclean_class','roberta_class_noclean']].apply(pd.Series.value_counts)\n"
   ]
  },
  {
   "cell_type": "code",
   "execution_count": 75,
   "id": "8a0a9fb2",
   "metadata": {},
   "outputs": [],
   "source": [
    "def print_no_concur_values(i):\n",
    "    print(\"\\033[94m This is the cleaned data span:\\n\", visual_exam_noconcur['clean'].iloc[i])\n",
    "    print(\"Vader classification - cleaned data\", visual_exam_noconcur['vader_clean_class'].iloc[i])\n",
    "    print(\"Roberta_classification - cleaned data\", visual_exam_noconcur['roberta_class_clean'].iloc[i])\n",
    "    print(\"\\033[91m This is the uncleaned data span:\\n\", visual_exam_noconcur['text'].iloc[i])\n",
    "    print(\"Vader classification - uncleaned data\", visual_exam_noconcur['vader_noclean_class'].iloc[i])\n",
    "    print(\"Roberta classification - uncleaned data\", visual_exam_noconcur['roberta_class_noclean'].iloc[i])\n",
    "\n",
    "\n",
    "\n"
   ]
  },
  {
   "cell_type": "code",
   "execution_count": 76,
   "id": "bfdda90b",
   "metadata": {},
   "outputs": [
    {
     "name": "stdout",
     "output_type": "stream",
     "text": [
      "\u001b[94m This is the cleaned data span:\n",
      " \n",
      "Vader classification - cleaned data 1\n",
      "Roberta_classification - cleaned data 2\n",
      "\u001b[91m This is the uncleaned data span:\n",
      " @sprintcare #GTFOH\n",
      "Vader classification - uncleaned data 1\n",
      "Roberta classification - uncleaned data 0\n"
     ]
    }
   ],
   "source": [
    "print_no_concur_values(0)"
   ]
  },
  {
   "cell_type": "code",
   "execution_count": 77,
   "id": "8fa3094d",
   "metadata": {},
   "outputs": [
    {
     "name": "stdout",
     "output_type": "stream",
     "text": [
      "\u001b[94m This is the cleaned data span:\n",
      " Hey how many times do call something removed from bill every month? Today will be 8th time I've called 8th credit will get. It's getting point can't handle being customer anymore. Time find new provider. You suck!\n",
      "Vader classification - cleaned data 1\n",
      "Roberta_classification - cleaned data 0\n",
      "\u001b[91m This is the uncleaned data span:\n",
      " Hey @sprintcare how many times do I have to call to have something removed from my bill every month? Today will be the 8th time that I've called and the 8th credit I will get. It's getting to a point I can't handle being a customer anymore. Time to find a new provider. You suck!\n",
      "Vader classification - uncleaned data 1\n",
      "Roberta classification - uncleaned data 0\n"
     ]
    }
   ],
   "source": [
    "print_no_concur_values(1)"
   ]
  },
  {
   "cell_type": "code",
   "execution_count": 78,
   "id": "90f3c021",
   "metadata": {},
   "outputs": [
    {
     "name": "stdout",
     "output_type": "stream",
     "text": [
      "\u001b[94m This is the cleaned data span:\n",
      " great start morning! Getting hung up by cust rep &amp; not helping w/ an issue w/ them since AUGUST\n",
      "Vader classification - cleaned data 2\n",
      "Roberta_classification - cleaned data 0\n",
      "\u001b[91m This is the uncleaned data span:\n",
      " @sprintcare great start to the morning! Getting hung up on by a cust rep &amp; not helping you w/ an issue you have w/ them since AUGUST\n",
      "Vader classification - uncleaned data 2\n",
      "Roberta classification - uncleaned data 0\n"
     ]
    }
   ],
   "source": [
    "print_no_concur_values(2)"
   ]
  },
  {
   "cell_type": "code",
   "execution_count": 79,
   "id": "476911fc",
   "metadata": {},
   "outputs": [
    {
     "name": "stdout",
     "output_type": "stream",
     "text": [
      "\u001b[94m This is the cleaned data span:\n",
      " Yes did plan changed! This second time updated had account changed. would like corrected.\n",
      "Vader classification - cleaned data 2\n",
      "Roberta_classification - cleaned data 1\n",
      "\u001b[91m This is the uncleaned data span:\n",
      " @sprintcare Yes I did and my plan was changed!  This is the second time I have updated a phone and had the account changed.  I would like it corrected.\n",
      "Vader classification - uncleaned data 2\n",
      "Roberta classification - uncleaned data 0\n"
     ]
    }
   ],
   "source": [
    "print_no_concur_values(3)"
   ]
  },
  {
   "cell_type": "code",
   "execution_count": 80,
   "id": "9a863633",
   "metadata": {},
   "outputs": [
    {
     "name": "stdout",
     "output_type": "stream",
     "text": [
      "\u001b[94m This is the cleaned data span:\n",
      " no LTE\n",
      "Vader classification - cleaned data 0\n",
      "Roberta_classification - cleaned data 1\n",
      "\u001b[91m This is the uncleaned data span:\n",
      " @sprintcare no LTE in 60169\n",
      "Vader classification - uncleaned data 0\n",
      "Roberta classification - uncleaned data 0\n"
     ]
    }
   ],
   "source": [
    "print_no_concur_values(4)"
   ]
  },
  {
   "cell_type": "code",
   "execution_count": 81,
   "id": "65e0ffa9",
   "metadata": {},
   "outputs": [
    {
     "name": "stdout",
     "output_type": "stream",
     "text": [
      "\u001b[94m This is the cleaned data span:\n",
      " less stolen by one employees they filed insurance claim. They still cell\n",
      "Vader classification - cleaned data 0\n",
      "Roberta_classification - cleaned data 1\n",
      "\u001b[91m This is the uncleaned data span:\n",
      " @sprintcare less my phone was stolen by one your employees and they filed a insurance claim. They still obtain the cell phone\n",
      "Vader classification - uncleaned data 0\n",
      "Roberta classification - uncleaned data 0\n"
     ]
    }
   ],
   "source": [
    "print_no_concur_values(5)"
   ]
  },
  {
   "cell_type": "code",
   "execution_count": 82,
   "id": "1b4b1e34",
   "metadata": {},
   "outputs": [
    {
     "name": "stdout",
     "output_type": "stream",
     "text": [
      "\u001b[94m This is the cleaned data span:\n",
      " how do an account, pay, guys if \"my number doesn't match any records?\"\n",
      "Vader classification - cleaned data 1\n",
      "Roberta_classification - cleaned data 0\n",
      "\u001b[91m This is the uncleaned data span:\n",
      " @sprintcare how do I have an account, pay, and service with you guys if \"my number doesn't match any in your records?\"\n",
      "Vader classification - uncleaned data 1\n",
      "Roberta classification - uncleaned data 0\n"
     ]
    }
   ],
   "source": [
    "print_no_concur_values(6)"
   ]
  },
  {
   "cell_type": "code",
   "execution_count": 83,
   "id": "ba7189d9",
   "metadata": {},
   "outputs": [
    {
     "name": "stdout",
     "output_type": "stream",
     "text": [
      "\u001b[94m This is the cleaned data span:\n",
      " can't believe little brother getting from after coming back from basic training!\n",
      "Vader classification - cleaned data 1\n",
      "Roberta_classification - cleaned data 2\n",
      "\u001b[91m This is the uncleaned data span:\n",
      " I can't believe the flack my little brother is getting from @115714 @sprintcare  after coming back from basic training!\n",
      "Vader classification - uncleaned data 1\n",
      "Roberta classification - uncleaned data 0\n"
     ]
    }
   ],
   "source": [
    "print_no_concur_values(7)"
   ]
  },
  {
   "cell_type": "code",
   "execution_count": 84,
   "id": "9a57d614",
   "metadata": {},
   "outputs": [
    {
     "name": "stdout",
     "output_type": "stream",
     "text": [
      "\u001b[94m This is the cleaned data span:\n",
      " My confirmation didn’t say day. Only it’s already shipped?? Can get before 3rd??\n",
      "Vader classification - cleaned data 1\n",
      "Roberta_classification - cleaned data 0\n",
      "\u001b[91m This is the uncleaned data span:\n",
      " @578754 @115714 @sprintcare My confirmation didn’t say a day. Only that it’s already shipped?? Can you get it before the 3rd??\n",
      "Vader classification - uncleaned data 1\n",
      "Roberta classification - uncleaned data 1\n"
     ]
    }
   ],
   "source": [
    "print_no_concur_values(8)"
   ]
  },
  {
   "cell_type": "code",
   "execution_count": 85,
   "id": "6d22f4a9",
   "metadata": {},
   "outputs": [
    {
     "name": "stdout",
     "output_type": "stream",
     "text": [
      "\u001b[94m This is the cleaned data span:\n",
      " LTE still out 24 hours later. Think we can get tower issue taken care today?\n",
      "Vader classification - cleaned data 2\n",
      "Roberta_classification - cleaned data 0\n",
      "\u001b[91m This is the uncleaned data span:\n",
      " @sprintcare LTE service still out 24 hours later. Think we can get this tower issue taken care of today?\n",
      "Vader classification - uncleaned data 2\n",
      "Roberta classification - uncleaned data 0\n"
     ]
    }
   ],
   "source": [
    "print_no_concur_values(9)"
   ]
  },
  {
   "cell_type": "code",
   "execution_count": 86,
   "id": "0e38ca39",
   "metadata": {},
   "outputs": [
    {
     "name": "stdout",
     "output_type": "stream",
     "text": [
      "\u001b[94m This is the cleaned data span:\n",
      " Will do!\n",
      "Vader classification - cleaned data 1\n",
      "Roberta_classification - cleaned data 2\n",
      "\u001b[91m This is the uncleaned data span:\n",
      " @sprintcare Will do!\n",
      "Vader classification - uncleaned data 1\n",
      "Roberta classification - uncleaned data 2\n"
     ]
    }
   ],
   "source": [
    "print_no_concur_values(10)"
   ]
  },
  {
   "cell_type": "markdown",
   "id": "1984b474",
   "metadata": {},
   "source": [
    "### From here, I am going to evaluate the actual scoring of the non-intersected data and identify performance of the models in the form of a confusion matrix\n",
    "- 012523:  With the stopword change, the csv will be a new grouping"
   ]
  },
  {
   "cell_type": "code",
   "execution_count": 87,
   "id": "a4b63e3b",
   "metadata": {},
   "outputs": [],
   "source": [
    "# send non-intersected data to csv for manipulation \n",
    "# dt.to_csv('file_name.csv',columns=['name'])\n",
    "visual_exam_noconcur.to_csv('confusion_data_20220127', encoding='utf-16', columns = ['tweet_id', 'text', 'clean','vader_clean_class',\n",
    "                                                          'roberta_class_clean'])\n"
   ]
  },
  {
   "cell_type": "markdown",
   "id": "d3661bcb",
   "metadata": {},
   "source": [
    "# Experimentation with Naives Bayes Classifier to test data quality"
   ]
  },
  {
   "cell_type": "code",
   "execution_count": 88,
   "id": "8fa84d2e",
   "metadata": {},
   "outputs": [],
   "source": [
    "# create new dataframes for cleaned and uncleaned data for index items that are concurrent\n",
    "uncleaned_concurrence = analyze_results[analyze_results['noclean_match']==True]\n",
    "# uncleaned_concurrence.head(1)"
   ]
  },
  {
   "cell_type": "code",
   "execution_count": 89,
   "id": "2bdaba35",
   "metadata": {},
   "outputs": [],
   "source": [
    "# uncleaned_concurrence.drop(['clean','vader_sentiment_clean', \n",
    "#                          'vader_clean_class','r_clean_format_label', \n",
    "#                          'roberta_class_clean', 'r_noclean_label',\n",
    "#                           'clean_match'], axis=1, inplace=True)"
   ]
  },
  {
   "cell_type": "code",
   "execution_count": 90,
   "id": "cd270a5e",
   "metadata": {},
   "outputs": [],
   "source": [
    "uncleaned_concurrence.reset_index(drop=True, inplace=True)"
   ]
  },
  {
   "cell_type": "code",
   "execution_count": 91,
   "id": "686bbe04",
   "metadata": {
    "scrolled": false
   },
   "outputs": [
    {
     "name": "stdout",
     "output_type": "stream",
     "text": [
      "<class 'pandas.core.frame.DataFrame'>\n",
      "RangeIndex: 7063 entries, 0 to 7062\n",
      "Data columns (total 13 columns):\n",
      " #   Column                   Non-Null Count  Dtype  \n",
      "---  ------                   --------------  -----  \n",
      " 0   tweet_id                 7063 non-null   int64  \n",
      " 1   text                     7063 non-null   object \n",
      " 2   clean                    7063 non-null   object \n",
      " 3   vader_sentiment_clean    7063 non-null   float64\n",
      " 4   vader_sentiment_noclean  7063 non-null   float64\n",
      " 5   vader_clean_class        7063 non-null   int64  \n",
      " 6   vader_noclean_class      7063 non-null   int64  \n",
      " 7   r_clean_format_label     7063 non-null   object \n",
      " 8   r_noclean_label          7063 non-null   object \n",
      " 9   roberta_class_clean      7063 non-null   int64  \n",
      " 10  roberta_class_noclean    7063 non-null   int64  \n",
      " 11  clean_match              7063 non-null   bool   \n",
      " 12  noclean_match            7063 non-null   bool   \n",
      "dtypes: bool(2), float64(2), int64(5), object(4)\n",
      "memory usage: 620.9+ KB\n"
     ]
    }
   ],
   "source": [
    "uncleaned_concurrence.info()"
   ]
  },
  {
   "cell_type": "code",
   "execution_count": 93,
   "id": "01e63d65",
   "metadata": {},
   "outputs": [],
   "source": [
    "uncleaned_concurrence.to_csv('twitter_dataset_noclean.csv')"
   ]
  },
  {
   "cell_type": "code",
   "execution_count": 94,
   "id": "8b07f55f",
   "metadata": {},
   "outputs": [
    {
     "data": {
      "text/plain": [
       "0    3209\n",
       "1    2824\n",
       "2    1030\n",
       "Name: roberta_class_clean, dtype: int64"
      ]
     },
     "execution_count": 94,
     "metadata": {},
     "output_type": "execute_result"
    }
   ],
   "source": [
    "uncleaned_concurrence.roberta_class_clean.value_counts()"
   ]
  },
  {
   "cell_type": "code",
   "execution_count": 95,
   "id": "bc17ac9f",
   "metadata": {},
   "outputs": [],
   "source": [
    "cleaned_concurrence = analyze_results[analyze_results['clean_match']==True]"
   ]
  },
  {
   "cell_type": "code",
   "execution_count": 96,
   "id": "2a00f9c6",
   "metadata": {},
   "outputs": [],
   "source": [
    "# cleaned_concurrence.drop(['clean','vader_sentiment_noclean', \n",
    "#                          'vader_noclean_class','r_clean_format_label', \n",
    "#                          'roberta_class_noclean', 'r_noclean_label',\n",
    "#                           'noclean_match'], axis=1, inplace=True)"
   ]
  },
  {
   "cell_type": "code",
   "execution_count": 97,
   "id": "49c471f5",
   "metadata": {},
   "outputs": [],
   "source": [
    "cleaned_concurrence.reset_index(drop=True, inplace=True)"
   ]
  },
  {
   "cell_type": "code",
   "execution_count": 98,
   "id": "005f6da0",
   "metadata": {},
   "outputs": [
    {
     "data": {
      "text/html": [
       "<div>\n",
       "<style scoped>\n",
       "    .dataframe tbody tr th:only-of-type {\n",
       "        vertical-align: middle;\n",
       "    }\n",
       "\n",
       "    .dataframe tbody tr th {\n",
       "        vertical-align: top;\n",
       "    }\n",
       "\n",
       "    .dataframe thead th {\n",
       "        text-align: right;\n",
       "    }\n",
       "</style>\n",
       "<table border=\"1\" class=\"dataframe\">\n",
       "  <thead>\n",
       "    <tr style=\"text-align: right;\">\n",
       "      <th></th>\n",
       "      <th>tweet_id</th>\n",
       "      <th>text</th>\n",
       "      <th>clean</th>\n",
       "      <th>vader_sentiment_clean</th>\n",
       "      <th>vader_sentiment_noclean</th>\n",
       "      <th>vader_clean_class</th>\n",
       "      <th>vader_noclean_class</th>\n",
       "      <th>r_clean_format_label</th>\n",
       "      <th>r_noclean_label</th>\n",
       "      <th>roberta_class_clean</th>\n",
       "      <th>roberta_class_noclean</th>\n",
       "      <th>clean_match</th>\n",
       "      <th>noclean_match</th>\n",
       "    </tr>\n",
       "  </thead>\n",
       "  <tbody>\n",
       "    <tr>\n",
       "      <th>0</th>\n",
       "      <td>1544038</td>\n",
       "      <td>@115714 @sprintcare I get almost no service af...</td>\n",
       "      <td>get almost no after moving LA. What wrong awfu...</td>\n",
       "      <td>-0.8109</td>\n",
       "      <td>-0.8109</td>\n",
       "      <td>0</td>\n",
       "      <td>0</td>\n",
       "      <td>negative</td>\n",
       "      <td>negative</td>\n",
       "      <td>0</td>\n",
       "      <td>0</td>\n",
       "      <td>True</td>\n",
       "      <td>True</td>\n",
       "    </tr>\n",
       "  </tbody>\n",
       "</table>\n",
       "</div>"
      ],
      "text/plain": [
       "   tweet_id                                               text  \\\n",
       "0   1544038  @115714 @sprintcare I get almost no service af...   \n",
       "\n",
       "                                               clean  vader_sentiment_clean  \\\n",
       "0  get almost no after moving LA. What wrong awfu...                -0.8109   \n",
       "\n",
       "   vader_sentiment_noclean  vader_clean_class  vader_noclean_class  \\\n",
       "0                  -0.8109                  0                    0   \n",
       "\n",
       "  r_clean_format_label r_noclean_label  roberta_class_clean  \\\n",
       "0             negative        negative                    0   \n",
       "\n",
       "   roberta_class_noclean  clean_match  noclean_match  \n",
       "0                      0         True           True  "
      ]
     },
     "execution_count": 98,
     "metadata": {},
     "output_type": "execute_result"
    }
   ],
   "source": [
    "cleaned_concurrence.head(1)"
   ]
  },
  {
   "cell_type": "code",
   "execution_count": 99,
   "id": "ed2f9eeb",
   "metadata": {},
   "outputs": [],
   "source": [
    "cleaned_concurrence.to_csv('twitter_dataset_clean_20220127.csv')"
   ]
  },
  {
   "cell_type": "code",
   "execution_count": 100,
   "id": "e95bd95b",
   "metadata": {},
   "outputs": [
    {
     "data": {
      "text/plain": [
       "1    3409\n",
       "0    3124\n",
       "2    1063\n",
       "Name: roberta_class_clean, dtype: int64"
      ]
     },
     "execution_count": 100,
     "metadata": {},
     "output_type": "execute_result"
    }
   ],
   "source": [
    "cleaned_concurrence.roberta_class_clean.value_counts()"
   ]
  },
  {
   "cell_type": "code",
   "execution_count": 101,
   "id": "b1fd2511",
   "metadata": {},
   "outputs": [],
   "source": [
    "# cleaned_concurrence.info()"
   ]
  },
  {
   "cell_type": "markdown",
   "id": "440edcf4",
   "metadata": {},
   "source": [
    "### Now that I have defined my \"ground truth\" labeled dataset as the intersection of inferences from my unsupervised methods, let's see if this can serve as a possible dataset for supervised (and therefore, more accurate) predictions.  One advantage of this approach is that for my training and test split, I will have the labels from Vader and Transformer to be able to evaluate the performance of the Supervised models.  "
   ]
  },
  {
   "cell_type": "code",
   "execution_count": 102,
   "id": "b3723a47",
   "metadata": {},
   "outputs": [],
   "source": [
    "from nltk import FreqDist\n",
    "# Important sklearn tools\n",
    "from sklearn.feature_extraction.text import TfidfVectorizer\n",
    "# this will be used to convert raw text to a matrix of TF-IDF features\n",
    "from sklearn.pipeline import make_pipeline\n",
    "# allows for automation in the workflows for the data transforms\n",
    "# from sklearn.feature_selection import chi2\n",
    "# # might use this for weeding out the features that are most likely to be independent of class\n",
    "from sklearn.feature_extraction.text import CountVectorizer\n",
    "from sklearn.model_selection import train_test_split\n",
    "# splits our training data into a n/m ratio in order to train our model\n",
    "from sklearn.linear_model import LogisticRegression\n",
    "# our standard classifier for multiclass classification problems\n",
    "from sklearn.naive_bayes import MultinomialNB\n",
    "# experimenting with a different NB model\n",
    "from sklearn.naive_bayes import ComplementNB\n",
    "# experiment with a NB model that is designed for imbalanced data sets\n",
    "from sklearn.naive_bayes import BernoulliNB\n",
    "# Bernoulli may perform better in our case due to the short nature of the documents (utterances)\n",
    "from sklearn.metrics import confusion_matrix, ConfusionMatrixDisplay\n",
    "# confusion matrix is used to help visualize the performance of a classification\n",
    "from sklearn.metrics import accuracy_score, classification_report\n",
    "# another scoring method, not sure if I'm going to finish with this\n",
    "from sklearn.svm import SVC\n",
    "from sklearn.ensemble import RandomForestClassifier"
   ]
  },
  {
   "cell_type": "markdown",
   "id": "c5bb27cc",
   "metadata": {},
   "source": [
    "### Start with the cleaned dataset, i.e., the set that I had a higher  concurrence intersection rate"
   ]
  },
  {
   "cell_type": "markdown",
   "id": "c01c627e",
   "metadata": {},
   "source": [
    "#### As we can see below, there is a significant class imbalance, specifically with the Negative(0) and Positive (2) classes vs the Neutral class(1); I will have to determine which models and techniques to use to deal with this such as oversampling, SMOTE, etc"
   ]
  },
  {
   "cell_type": "code",
   "execution_count": 103,
   "id": "97814618",
   "metadata": {},
   "outputs": [
    {
     "data": {
      "image/png": "[encoded data removed]",
      "text/plain": [
       "<Figure size 640x480 with 1 Axes>"
      ]
     },
     "metadata": {},
     "output_type": "display_data"
    }
   ],
   "source": [
    "\n",
    "sns.histplot(data=cleaned_concurrence, x=\"roberta_class_clean\")\n",
    "plt.locator_params(axis=\"both\", integer = True, tight = True)\n",
    "\n",
    "plt.tight_layout()"
   ]
  },
  {
   "cell_type": "code",
   "execution_count": 104,
   "id": "2827814b",
   "metadata": {},
   "outputs": [],
   "source": [
    "# Positive, Neutral and Negative token patterns \n",
    "POS_WORDS = cleaned_concurrence[cleaned_concurrence.roberta_class_clean==2].clean.str.split().tolist()\n",
    "POS_WORDS = [w for seq in POS_WORDS for w in seq]\n",
    "\n",
    "NEU_WORDS = cleaned_concurrence[cleaned_concurrence.roberta_class_clean==1].clean.str.split().tolist()\n",
    "NEU_WORDS = [w for seq in NEU_WORDS for w in seq]\n",
    "\n",
    "NEG_WORDS = cleaned_concurrence[cleaned_concurrence.roberta_class_clean==0].clean.str.split().tolist()\n",
    "NEG_WORDS = [w for seq in NEG_WORDS for w in seq]"
   ]
  },
  {
   "cell_type": "code",
   "execution_count": 105,
   "id": "377dad59",
   "metadata": {},
   "outputs": [
    {
     "data": {
      "text/plain": [
       "(9003, 26245, 45335)"
      ]
     },
     "execution_count": 105,
     "metadata": {},
     "output_type": "execute_result"
    }
   ],
   "source": [
    "len(POS_WORDS),len(NEU_WORDS), len(NEG_WORDS)"
   ]
  },
  {
   "cell_type": "code",
   "execution_count": 106,
   "id": "7ada475f",
   "metadata": {},
   "outputs": [
    {
     "name": "stdout",
     "output_type": "stream",
     "text": [
      "[('Thank', 177), ('Thanks', 103), ('be', 78), ('will', 68), ('so', 67), ('thanks', 64), ('good', 62), ('Yes', 60), ('you.', 58), ('just', 58)]\n"
     ]
    }
   ],
   "source": [
    "# frequency distribution of Positive words\n",
    "positive = FreqDist(POS_WORDS).most_common(10)\n",
    "print (positive)"
   ]
  },
  {
   "cell_type": "markdown",
   "id": "f9d55a55",
   "metadata": {},
   "source": [
    "### ^^^ above we can see where case flipping, lemmatization might be a good idea"
   ]
  },
  {
   "cell_type": "code",
   "execution_count": 107,
   "id": "e45edc9f",
   "metadata": {},
   "outputs": [
    {
     "name": "stdout",
     "output_type": "stream",
     "text": [
      "[('be', 200), ('get', 197), ('can', 189), ('just', 188), ('do', 179), ('but', 178), ('iPhone', 160), ('an', 153), ('not', 146), ('will', 146)]\n"
     ]
    }
   ],
   "source": [
    "neutral=FreqDist(NEU_WORDS).most_common(10)\n",
    "print(neutral)"
   ]
  },
  {
   "cell_type": "code",
   "execution_count": 108,
   "id": "70887e70",
   "metadata": {},
   "outputs": [
    {
     "name": "stdout",
     "output_type": "stream",
     "text": [
      "[('no', 526), ('not', 413), ('customer', 311), ('been', 310), ('get', 287), ('just', 247), ('be', 240), ('are', 228), ('so', 226), ('but', 224)]\n"
     ]
    }
   ],
   "source": [
    "negative=FreqDist(NEG_WORDS).most_common(10)\n",
    "print(negative)"
   ]
  },
  {
   "cell_type": "code",
   "execution_count": 109,
   "id": "04cb58e5",
   "metadata": {},
   "outputs": [],
   "source": [
    "POS_DIST = pd.DataFrame(FreqDist(POS_WORDS).items(),columns =['word','WordCountPos'])\n",
    "POS_DIST = POS_DIST.set_index('word')\n",
    "\n",
    "NEU_DIST = pd.DataFrame(FreqDist(NEU_WORDS).items(), columns=['word', 'WordCountNeu'])\n",
    "NEU_DIST = NEU_DIST.set_index('word')\n",
    "\n",
    "NEG_DIST = pd.DataFrame(FreqDist(NEG_WORDS).items(),columns =['word','WordCountNeg'])\n",
    "NEG_DIST = NEG_DIST.set_index('word')"
   ]
  },
  {
   "cell_type": "code",
   "execution_count": 110,
   "id": "db6c590c",
   "metadata": {},
   "outputs": [],
   "source": [
    "COM_DIST = POS_DIST.merge(NEU_DIST, on = 'word').merge(NEG_DIST, on = 'word')\n",
    "\n",
    "# COM_DIST = COM_DIST[(COM_DIST.WordCountPos + COM_DIST.WordCountNeu + COM_DIST.WordCountNeg)>50]\n",
    "# COM_DIST['score'] = np.log(COM_DIST.WordCountPos / COM_DIST.WordCountNeg)"
   ]
  },
  {
   "cell_type": "code",
   "execution_count": 111,
   "id": "89443e39",
   "metadata": {},
   "outputs": [
    {
     "data": {
      "text/html": [
       "<div>\n",
       "<style scoped>\n",
       "    .dataframe tbody tr th:only-of-type {\n",
       "        vertical-align: middle;\n",
       "    }\n",
       "\n",
       "    .dataframe tbody tr th {\n",
       "        vertical-align: top;\n",
       "    }\n",
       "\n",
       "    .dataframe thead th {\n",
       "        text-align: right;\n",
       "    }\n",
       "</style>\n",
       "<table border=\"1\" class=\"dataframe\">\n",
       "  <thead>\n",
       "    <tr style=\"text-align: right;\">\n",
       "      <th></th>\n",
       "      <th>WordCountPos</th>\n",
       "      <th>WordCountNeu</th>\n",
       "      <th>WordCountNeg</th>\n",
       "    </tr>\n",
       "    <tr>\n",
       "      <th>word</th>\n",
       "      <th></th>\n",
       "      <th></th>\n",
       "      <th></th>\n",
       "    </tr>\n",
       "  </thead>\n",
       "  <tbody>\n",
       "    <tr>\n",
       "      <th>Thanks</th>\n",
       "      <td>103</td>\n",
       "      <td>4</td>\n",
       "      <td>12</td>\n",
       "    </tr>\n",
       "    <tr>\n",
       "      <th>very</th>\n",
       "      <td>14</td>\n",
       "      <td>5</td>\n",
       "      <td>53</td>\n",
       "    </tr>\n",
       "    <tr>\n",
       "      <th>much</th>\n",
       "      <td>22</td>\n",
       "      <td>28</td>\n",
       "      <td>40</td>\n",
       "    </tr>\n",
       "    <tr>\n",
       "      <th>are</th>\n",
       "      <td>34</td>\n",
       "      <td>114</td>\n",
       "      <td>228</td>\n",
       "    </tr>\n",
       "    <tr>\n",
       "      <th>still</th>\n",
       "      <td>12</td>\n",
       "      <td>69</td>\n",
       "      <td>190</td>\n",
       "    </tr>\n",
       "    <tr>\n",
       "      <th>giving</th>\n",
       "      <td>3</td>\n",
       "      <td>1</td>\n",
       "      <td>8</td>\n",
       "    </tr>\n",
       "    <tr>\n",
       "      <th>out</th>\n",
       "      <td>29</td>\n",
       "      <td>104</td>\n",
       "      <td>127</td>\n",
       "    </tr>\n",
       "    <tr>\n",
       "      <th>am</th>\n",
       "      <td>27</td>\n",
       "      <td>72</td>\n",
       "      <td>145</td>\n",
       "    </tr>\n",
       "    <tr>\n",
       "      <th>Sprint</th>\n",
       "      <td>44</td>\n",
       "      <td>110</td>\n",
       "      <td>204</td>\n",
       "    </tr>\n",
       "    <tr>\n",
       "      <th>customer</th>\n",
       "      <td>52</td>\n",
       "      <td>52</td>\n",
       "      <td>311</td>\n",
       "    </tr>\n",
       "  </tbody>\n",
       "</table>\n",
       "</div>"
      ],
      "text/plain": [
       "          WordCountPos  WordCountNeu  WordCountNeg\n",
       "word                                              \n",
       "Thanks             103             4            12\n",
       "very                14             5            53\n",
       "much                22            28            40\n",
       "are                 34           114           228\n",
       "still               12            69           190\n",
       "giving               3             1             8\n",
       "out                 29           104           127\n",
       "am                  27            72           145\n",
       "Sprint              44           110           204\n",
       "customer            52            52           311"
      ]
     },
     "execution_count": 111,
     "metadata": {},
     "output_type": "execute_result"
    }
   ],
   "source": [
    "COM_DIST.head(10)"
   ]
  },
  {
   "cell_type": "code",
   "execution_count": 112,
   "id": "bda38baa",
   "metadata": {},
   "outputs": [
    {
     "data": {
      "text/html": [
       "<div>\n",
       "<style scoped>\n",
       "    .dataframe tbody tr th:only-of-type {\n",
       "        vertical-align: middle;\n",
       "    }\n",
       "\n",
       "    .dataframe tbody tr th {\n",
       "        vertical-align: top;\n",
       "    }\n",
       "\n",
       "    .dataframe thead th {\n",
       "        text-align: right;\n",
       "    }\n",
       "</style>\n",
       "<table border=\"1\" class=\"dataframe\">\n",
       "  <thead>\n",
       "    <tr style=\"text-align: right;\">\n",
       "      <th></th>\n",
       "      <th>WordCountPos</th>\n",
       "      <th>WordCountNeu</th>\n",
       "      <th>WordCountNeg</th>\n",
       "    </tr>\n",
       "    <tr>\n",
       "      <th>word</th>\n",
       "      <th></th>\n",
       "      <th></th>\n",
       "      <th></th>\n",
       "    </tr>\n",
       "  </thead>\n",
       "  <tbody>\n",
       "    <tr>\n",
       "      <th>twitter</th>\n",
       "      <td>1</td>\n",
       "      <td>4</td>\n",
       "      <td>9</td>\n",
       "    </tr>\n",
       "    <tr>\n",
       "      <th>employee</th>\n",
       "      <td>1</td>\n",
       "      <td>6</td>\n",
       "      <td>11</td>\n",
       "    </tr>\n",
       "    <tr>\n",
       "      <th>have.</th>\n",
       "      <td>1</td>\n",
       "      <td>3</td>\n",
       "      <td>4</td>\n",
       "    </tr>\n",
       "    <tr>\n",
       "      <th>billing</th>\n",
       "      <td>1</td>\n",
       "      <td>5</td>\n",
       "      <td>20</td>\n",
       "    </tr>\n",
       "    <tr>\n",
       "      <th>now!</th>\n",
       "      <td>1</td>\n",
       "      <td>1</td>\n",
       "      <td>5</td>\n",
       "    </tr>\n",
       "    <tr>\n",
       "      <th>ready</th>\n",
       "      <td>1</td>\n",
       "      <td>3</td>\n",
       "      <td>3</td>\n",
       "    </tr>\n",
       "    <tr>\n",
       "      <th>somewhere</th>\n",
       "      <td>1</td>\n",
       "      <td>1</td>\n",
       "      <td>3</td>\n",
       "    </tr>\n",
       "    <tr>\n",
       "      <th>bet</th>\n",
       "      <td>1</td>\n",
       "      <td>1</td>\n",
       "      <td>5</td>\n",
       "    </tr>\n",
       "    <tr>\n",
       "      <th>Netflix</th>\n",
       "      <td>1</td>\n",
       "      <td>1</td>\n",
       "      <td>1</td>\n",
       "    </tr>\n",
       "    <tr>\n",
       "      <th>included</th>\n",
       "      <td>1</td>\n",
       "      <td>4</td>\n",
       "      <td>1</td>\n",
       "    </tr>\n",
       "  </tbody>\n",
       "</table>\n",
       "</div>"
      ],
      "text/plain": [
       "           WordCountPos  WordCountNeu  WordCountNeg\n",
       "word                                               \n",
       "twitter               1             4             9\n",
       "employee              1             6            11\n",
       "have.                 1             3             4\n",
       "billing               1             5            20\n",
       "now!                  1             1             5\n",
       "ready                 1             3             3\n",
       "somewhere             1             1             3\n",
       "bet                   1             1             5\n",
       "Netflix               1             1             1\n",
       "included              1             4             1"
      ]
     },
     "execution_count": 112,
     "metadata": {},
     "output_type": "execute_result"
    }
   ],
   "source": [
    "COM_DIST.tail(10)"
   ]
  },
  {
   "cell_type": "markdown",
   "id": "25b1bdce",
   "metadata": {},
   "source": [
    "### Notes\n",
    "1. We can see punctuation and caps.  Whereas the unsupervised models appeared to have dealt with this, our supervised model *might* require some additional text cleaning procedures\n",
    "2. There are occurences of digits as well.  Probably will not be useful so I will eliminate those\n",
    "3. The Proper Noun \"Sprint\" may not be useful here\n"
   ]
  },
  {
   "cell_type": "markdown",
   "id": "d1854601",
   "metadata": {},
   "source": [
    "#### Let's prepare our Training, Test and \"Dev\" set.  Dev set will will be 10% of the dataframe, randomly sampled that will be used for later purposes (to run as our final QA of the model, since we do have the classified values).  Training and Test will be randomly split 80/20 with the remainder\n",
    "\n",
    "#### Since in my dataframe I only have concurrent predictions for both Vader and Roberta, I am going to use Roberta's predictions for the model classification of the training data"
   ]
  },
  {
   "cell_type": "code",
   "execution_count": 113,
   "id": "649faa08",
   "metadata": {},
   "outputs": [],
   "source": [
    "frac=0.1 # ten percent of the dataframe\n",
    "dev_split = cleaned_concurrence.sample(frac=frac,random_state=42)\n",
    "to_drop = dev_split.index\n",
    "\n",
    "train_test = cleaned_concurrence.drop(to_drop)\n",
    "#dev_range = default_rng().choice(cleaned_concurrence.index, size=665, replace=False)\n",
    "#cleaned_concurrence.drop(index=dev_range)"
   ]
  },
  {
   "cell_type": "code",
   "execution_count": 114,
   "id": "8f0ddfcd",
   "metadata": {},
   "outputs": [],
   "source": [
    "train_test.reset_index(drop=True, inplace = True)"
   ]
  },
  {
   "cell_type": "code",
   "execution_count": 115,
   "id": "610bc59e",
   "metadata": {},
   "outputs": [],
   "source": [
    "dev_split.reset_index(drop=True, inplace = True)"
   ]
  },
  {
   "cell_type": "markdown",
   "id": "ac6f26d0",
   "metadata": {},
   "source": [
    "### Setting up the ML Training Pipeline"
   ]
  },
  {
   "cell_type": "code",
   "execution_count": 116,
   "id": "19e5a735",
   "metadata": {},
   "outputs": [],
   "source": [
    "X = train_test['clean']\n",
    "y = train_test['roberta_class_clean']\n",
    "X_train, X_test, y_train, y_test = train_test_split(X, y, test_size=0.2, random_state=50)"
   ]
  },
  {
   "cell_type": "code",
   "execution_count": 117,
   "id": "9a17e7b0",
   "metadata": {},
   "outputs": [
    {
     "name": "stdout",
     "output_type": "stream",
     "text": [
      "(5468,) (5468,)\n",
      "(1368,) (1368,)\n",
      "(1368,) (1368,)\n"
     ]
    }
   ],
   "source": [
    "print(X_train.shape, y_train.shape)\n",
    "print (X_test.shape, y_test.shape)\n",
    "print (X_test.shape, y_test.shape)"
   ]
  },
  {
   "cell_type": "markdown",
   "id": "78df0594",
   "metadata": {},
   "source": [
    "### Use sklearn make_pipeline utility for automation and reusable code"
   ]
  },
  {
   "cell_type": "code",
   "execution_count": 118,
   "id": "759cbf37",
   "metadata": {},
   "outputs": [],
   "source": [
    "automation = {\n",
    "    \"lr\": make_pipeline(\n",
    "        TfidfVectorizer(max_features=20000,\n",
    "                        strip_accents='unicode',    # Remove accents and perform other character normalization during the preprocessing step\n",
    "                        analyzer='word',            # Whether the feature should be made of word or character n-gram\n",
    "                        token_pattern=r'\\w{1,}',    # Regular expression denoting what constitutes a “token”, only used if analyzer == 'wor\n",
    "                        ngram_range=(1, 3),         # The lower and upper boundary of the range of n-values for different n-grams to be extracte\n",
    "                        stop_words='english',\n",
    "                        sublinear_tf=True),\n",
    "        LogisticRegression()\n",
    "    ),\n",
    "    \"mnb\": make_pipeline(\n",
    "        TfidfVectorizer(max_features=20000,\n",
    "                        strip_accents='unicode',    # Remove accents and perform other character normalization during the preprocessing step\n",
    "                        analyzer='word',            # Whether the feature should be made of word or character n-gram\n",
    "                        token_pattern=r'\\w{1,}',    # Regular expression denoting what constitutes a “token”, only used if analyzer == 'wor\n",
    "                        ngram_range=(1, 3),         # The lower and upper boundary of the range of n-values for different n-grams to be extracte\n",
    "                        stop_words='english',\n",
    "                        sublinear_tf=True),\n",
    "        MultinomialNB()\n",
    "    ),    \n",
    "    \"cnb\": make_pipeline(\n",
    "        TfidfVectorizer(max_features=20000,\n",
    "                        strip_accents='unicode',    # Remove accents and perform other character normalization during the preprocessing step\n",
    "                        analyzer='word',            # Whether the feature should be made of word or character n-gram\n",
    "                        token_pattern=r'\\w{1,}',    # Regular expression denoting what constitutes a “token”, only used if analyzer == 'wor\n",
    "                        ngram_range=(1, 3),         # The lower and upper boundary of the range of n-values for different n-grams to be extracte\n",
    "                        stop_words='english',\n",
    "                        sublinear_tf=True),\n",
    "        ComplementNB()\n",
    "        # experiment with the sklearn ComplementNB, which is designed to account for \n",
    "        # (cont'd) imbalanced data sets\n",
    "    )\n",
    "}"
   ]
  },
  {
   "cell_type": "code",
   "execution_count": 119,
   "id": "ff96676c",
   "metadata": {
    "scrolled": true
   },
   "outputs": [
    {
     "data": {
      "application/vnd.jupyter.widget-view+json": {
       "model_id": "87fc901d5fe54918afecf93ee97c049b",
       "version_major": 2,
       "version_minor": 0
      },
      "text/plain": [
       "  0%|          | 0/3 [00:00<?, ?it/s]"
      ]
     },
     "metadata": {},
     "output_type": "display_data"
    }
   ],
   "source": [
    "for p in tqdm(automation.values()):\n",
    "    p.fit(X_train, y_train)"
   ]
  },
  {
   "cell_type": "code",
   "execution_count": 120,
   "id": "7e9f9662",
   "metadata": {},
   "outputs": [
    {
     "data": {
      "application/vnd.jupyter.widget-view+json": {
       "model_id": "5baba46694834321839a51fb61b5f46b",
       "version_major": 2,
       "version_minor": 0
      },
      "text/plain": [
       "  0%|          | 0/3 [00:00<?, ?it/s]"
      ]
     },
     "metadata": {},
     "output_type": "display_data"
    },
    {
     "name": "stdout",
     "output_type": "stream",
     "text": [
      "lr\n",
      "              precision    recall  f1-score   support\n",
      "\n",
      "           0       0.95      0.96      0.96      2264\n",
      "           1       0.92      0.97      0.94      2436\n",
      "           2       0.98      0.76      0.86       768\n",
      "\n",
      "    accuracy                           0.94      5468\n",
      "   macro avg       0.95      0.90      0.92      5468\n",
      "weighted avg       0.94      0.94      0.94      5468\n",
      "\n",
      "mnb\n",
      "              precision    recall  f1-score   support\n",
      "\n",
      "           0       0.87      0.96      0.92      2264\n",
      "           1       0.88      0.94      0.91      2436\n",
      "           2       0.98      0.47      0.64       768\n",
      "\n",
      "    accuracy                           0.88      5468\n",
      "   macro avg       0.91      0.79      0.82      5468\n",
      "weighted avg       0.89      0.88      0.87      5468\n",
      "\n",
      "cnb\n",
      "              precision    recall  f1-score   support\n",
      "\n",
      "           0       0.89      0.97      0.93      2264\n",
      "           1       0.96      0.89      0.92      2436\n",
      "           2       0.96      0.95      0.95       768\n",
      "\n",
      "    accuracy                           0.93      5468\n",
      "   macro avg       0.94      0.93      0.93      5468\n",
      "weighted avg       0.93      0.93      0.93      5468\n",
      "\n"
     ]
    }
   ],
   "source": [
    "for model_name, p in tqdm(automation.items()):\n",
    "    print(model_name)\n",
    "    y_pred_train = p.predict(X_train)\n",
    "    print(classification_report(y_train, y_pred_train))"
   ]
  },
  {
   "cell_type": "markdown",
   "id": "b8b97896",
   "metadata": {},
   "source": [
    "#### ^^^ Now we can see that adjusting the valence measure as I described above had a very positive impact on the model training\n",
    "####  Additionally, the CNB model, which is built to account for data imbalances, showed a very positive performance"
   ]
  },
  {
   "cell_type": "code",
   "execution_count": 121,
   "id": "c808b8d2",
   "metadata": {},
   "outputs": [
    {
     "data": {
      "application/vnd.jupyter.widget-view+json": {
       "model_id": "8db5a6561ca74a02a87fb89012648ef6",
       "version_major": 2,
       "version_minor": 0
      },
      "text/plain": [
       "  0%|          | 0/3 [00:00<?, ?it/s]"
      ]
     },
     "metadata": {},
     "output_type": "display_data"
    },
    {
     "name": "stdout",
     "output_type": "stream",
     "text": [
      "lr\n",
      "              precision    recall  f1-score   support\n",
      "\n",
      "           0       0.77      0.82      0.80       547\n",
      "           1       0.82      0.82      0.82       641\n",
      "           2       0.92      0.71      0.80       180\n",
      "\n",
      "    accuracy                           0.81      1368\n",
      "   macro avg       0.84      0.79      0.81      1368\n",
      "weighted avg       0.81      0.81      0.81      1368\n",
      "\n",
      "mnb\n",
      "              precision    recall  f1-score   support\n",
      "\n",
      "           0       0.67      0.84      0.75       547\n",
      "           1       0.78      0.75      0.76       641\n",
      "           2       0.94      0.36      0.52       180\n",
      "\n",
      "    accuracy                           0.73      1368\n",
      "   macro avg       0.80      0.65      0.68      1368\n",
      "weighted avg       0.76      0.73      0.72      1368\n",
      "\n",
      "cnb\n",
      "              precision    recall  f1-score   support\n",
      "\n",
      "           0       0.67      0.85      0.75       547\n",
      "           1       0.80      0.64      0.71       641\n",
      "           2       0.83      0.72      0.77       180\n",
      "\n",
      "    accuracy                           0.74      1368\n",
      "   macro avg       0.77      0.74      0.74      1368\n",
      "weighted avg       0.75      0.74      0.74      1368\n",
      "\n"
     ]
    }
   ],
   "source": [
    "for model_name, p in tqdm(automation.items()):\n",
    "    print(model_name)\n",
    "    y_pred_test = p.predict(X_test)\n",
    "    print(classification_report(y_test, y_pred_test))\n",
    "   "
   ]
  },
  {
   "cell_type": "markdown",
   "id": "1b509d1c",
   "metadata": {},
   "source": [
    "### In the above attempt using the 80/20 training/test split, the best performing model was the logistic regression model, with overall accuracy at 80%, but with the class performance for Classes 0, 1 and 2 being comparable.  Could this be because of class imbalance?  Let's take a further look into the performance of the LR(logistic regression) model, which did not perform as well as the CategoricalNB model in the training phase, but had better predictions on the test split"
   ]
  },
  {
   "cell_type": "code",
   "execution_count": 122,
   "id": "8402c87d",
   "metadata": {},
   "outputs": [
    {
     "name": "stdout",
     "output_type": "stream",
     "text": [
      "              precision    recall  f1-score   support\n",
      "\n",
      "           0       0.95      0.96      0.96      2264\n",
      "           1       0.92      0.97      0.94      2436\n",
      "           2       0.98      0.76      0.86       768\n",
      "\n",
      "    accuracy                           0.94      5468\n",
      "   macro avg       0.95      0.90      0.92      5468\n",
      "weighted avg       0.94      0.94      0.94      5468\n",
      "\n"
     ]
    }
   ],
   "source": [
    "p_lr = automation[\"lr\"]\n",
    "p_lr.fit(X_train, y_train)\n",
    "y_pred_train_lr = p_lr.predict(X_train)\n",
    "print(classification_report(y_train, y_pred_train_lr))"
   ]
  },
  {
   "cell_type": "code",
   "execution_count": 123,
   "id": "55c82464",
   "metadata": {},
   "outputs": [
    {
     "name": "stdout",
     "output_type": "stream",
     "text": [
      "              precision    recall  f1-score   support\n",
      "\n",
      "           0       0.77      0.82      0.80       547\n",
      "           1       0.82      0.82      0.82       641\n",
      "           2       0.92      0.71      0.80       180\n",
      "\n",
      "    accuracy                           0.81      1368\n",
      "   macro avg       0.84      0.79      0.81      1368\n",
      "weighted avg       0.81      0.81      0.81      1368\n",
      "\n",
      "[[451  91   5]\n",
      " [108 527   6]\n",
      " [ 24  28 128]]\n",
      "True Negatives =  451\n",
      "False Negatives =  108\n",
      "True Positives =  527\n",
      "False Positives =  91\n"
     ]
    },
    {
     "data": {
      "image/png": "[encoded data removed]",
      "text/plain": [
       "<Figure size 640x480 with 2 Axes>"
      ]
     },
     "metadata": {},
     "output_type": "display_data"
    }
   ],
   "source": [
    "y_pred_test_lr = p_lr.predict(X_test)\n",
    "print(classification_report(y_test, y_pred_test_lr))\n",
    "cm = confusion_matrix(y_test, y_pred_test_lr, labels = p_lr.classes_)\n",
    "print(cm)\n",
    "print(\"True Negatives = \", cm[0][0])\n",
    "print(\"False Negatives = \", cm[1][0])\n",
    "print(\"True Positives = \", cm[1][1])\n",
    "print(\"False Positives = \", cm[0][1])      \n",
    "disp = ConfusionMatrixDisplay(confusion_matrix = cm, display_labels=p_lr.classes_)\n",
    "disp.plot()\n",
    "plt.show()"
   ]
  },
  {
   "cell_type": "code",
   "execution_count": 124,
   "id": "b3d39bfd",
   "metadata": {},
   "outputs": [
    {
     "name": "stdout",
     "output_type": "stream",
     "text": [
      "              precision    recall  f1-score   support\n",
      "\n",
      "           0       0.95      0.96      0.96      2264\n",
      "           1       0.92      0.97      0.94      2436\n",
      "           2       0.98      0.76      0.86       768\n",
      "\n",
      "    accuracy                           0.94      5468\n",
      "   macro avg       0.95      0.90      0.92      5468\n",
      "weighted avg       0.94      0.94      0.94      5468\n",
      "\n"
     ]
    }
   ],
   "source": [
    "p_cnb = automation[\"cnb\"]\n",
    "p_cnb.fit(X_train, y_train)\n",
    "y_pred_train_cnb = p_cnb.predict(X_train)\n",
    "print(classification_report(y_train, y_pred_train_lr))"
   ]
  },
  {
   "cell_type": "code",
   "execution_count": 125,
   "id": "2a04e7bd",
   "metadata": {},
   "outputs": [
    {
     "name": "stdout",
     "output_type": "stream",
     "text": [
      "              precision    recall  f1-score   support\n",
      "\n",
      "           0       0.67      0.85      0.75       547\n",
      "           1       0.80      0.64      0.71       641\n",
      "           2       0.83      0.72      0.77       180\n",
      "\n",
      "    accuracy                           0.74      1368\n",
      "   macro avg       0.77      0.74      0.74      1368\n",
      "weighted avg       0.75      0.74      0.74      1368\n",
      "\n",
      "[[467  73   7]\n",
      " [210 411  20]\n",
      " [ 23  27 130]]\n",
      "True Negatives =  467\n",
      "False Negatives =  210\n",
      "True Positives =  411\n",
      "False Positives =  73\n"
     ]
    },
    {
     "data": {
      "image/png": "[encoded data removed]",
      "text/plain": [
       "<Figure size 640x480 with 2 Axes>"
      ]
     },
     "metadata": {},
     "output_type": "display_data"
    }
   ],
   "source": [
    "y_pred_test_cnb = p_cnb.predict(X_test)\n",
    "print(classification_report(y_test, y_pred_test_cnb))\n",
    "cm = confusion_matrix(y_test, y_pred_test_cnb, labels = p_cnb.classes_)\n",
    "print(cm)\n",
    "print(\"True Negatives = \", cm[0][0])\n",
    "print(\"False Negatives = \", cm[1][0])\n",
    "print(\"True Positives = \", cm[1][1])\n",
    "print(\"False Positives = \", cm[0][1])      \n",
    "disp = ConfusionMatrixDisplay(confusion_matrix = cm, display_labels=p_cnb.classes_)\n",
    "disp.plot()\n",
    "plt.show()"
   ]
  },
  {
   "cell_type": "markdown",
   "id": "a5d6ddf6",
   "metadata": {},
   "source": [
    "###  Here, I am going to experiment with methods to alleviate classification imbalance.  It appears that we need to undersample the Neutral Class and potentially employ an combination of over- and under-sampling or ensemble method"
   ]
  },
  {
   "cell_type": "code",
   "execution_count": 126,
   "id": "f5115494",
   "metadata": {},
   "outputs": [
    {
     "name": "stdout",
     "output_type": "stream",
     "text": [
      "Negative 2264 Neutral 2436 Positive 768\n"
     ]
    },
    {
     "data": {
      "text/plain": [
       "1    3077\n",
       "0    2811\n",
       "2     948\n",
       "Name: roberta_class_clean, dtype: int64"
      ]
     },
     "execution_count": 126,
     "metadata": {},
     "output_type": "execute_result"
    }
   ],
   "source": [
    "class_count_1, class_count_0, class_count_2  = y_train.value_counts()\n",
    "print(\"Negative\", class_count_0, \"Neutral\", class_count_1, \"Positive\", class_count_2)\n",
    "train_test['roberta_class_clean'].value_counts()"
   ]
  },
  {
   "cell_type": "code",
   "execution_count": 127,
   "id": "3ba42685",
   "metadata": {},
   "outputs": [
    {
     "data": {
      "image/png": "[encoded data removed]",
      "text/plain": [
       "<Figure size 640x480 with 1 Axes>"
      ]
     },
     "metadata": {},
     "output_type": "display_data"
    }
   ],
   "source": [
    "ax_imbalance = y_train.value_counts().plot.pie(autopct='%.2f')\n",
    "_ = ax_imbalance.set_title(\"Before applying sample techniques\")"
   ]
  },
  {
   "cell_type": "markdown",
   "id": "b8e051d8",
   "metadata": {},
   "source": [
    "### Run models indepdently to validate performance with sampling"
   ]
  },
  {
   "cell_type": "code",
   "execution_count": 128,
   "id": "3b718ead",
   "metadata": {},
   "outputs": [],
   "source": [
    "import imblearn\n",
    "from imblearn.under_sampling import RandomUnderSampler\n",
    "from imblearn.over_sampling import SMOTE\n",
    "from imblearn.over_sampling import RandomOverSampler \n",
    "# fit the predictor and target variable"
   ]
  },
  {
   "cell_type": "code",
   "execution_count": 129,
   "id": "70f0d311",
   "metadata": {},
   "outputs": [],
   "source": [
    "# designate variables for testing with imbalances\n",
    "X_os = train_test['clean']\n",
    "y_os= train_test['roberta_class_clean']\n"
   ]
  },
  {
   "cell_type": "code",
   "execution_count": 130,
   "id": "e758d2e4",
   "metadata": {},
   "outputs": [],
   "source": [
    "# import pickle\n",
    "td = TfidfVectorizer(\n",
    "    max_features=20000,\n",
    "    strip_accents='unicode',    # Remove accents and perform other character normalization during the preprocessing step. \n",
    "    analyzer='word',            # Whether the feature should be made of word or character n-grams.\n",
    "    token_pattern=r'\\w{1,}',    # Regular expression denoting what constitutes a “token”, only used if analyzer == 'word'\n",
    "    ngram_range=(1, 3),         # The lower and upper boundary of the range of n-values for different n-grams to be extracted\n",
    "    stop_words='english',\n",
    "    sublinear_tf=True\n",
    ")\n",
    "# instead of the pipeline technique, I'm vectorizing the text data for sampling techniques\n",
    "X_os = td.fit_transform(X_os).toarray()\n"
   ]
  },
  {
   "cell_type": "code",
   "execution_count": 131,
   "id": "e79bcce8",
   "metadata": {},
   "outputs": [
    {
     "name": "stdout",
     "output_type": "stream",
     "text": [
      "(6836, 20000)\n"
     ]
    }
   ],
   "source": [
    "print (X_os.shape)\n"
   ]
  },
  {
   "cell_type": "code",
   "execution_count": 136,
   "id": "0932ef8c",
   "metadata": {},
   "outputs": [],
   "source": [
    "# train test split\n",
    "Xos_train, Xos_test, yos_train, yos_test = train_test_split(X_os, y_os, test_size=0.2, random_state=50)"
   ]
  },
  {
   "cell_type": "code",
   "execution_count": 138,
   "id": "609f950d",
   "metadata": {},
   "outputs": [
    {
     "name": "stdout",
     "output_type": "stream",
     "text": [
      "Before -  Counter({1: 2436, 0: 2264, 2: 768})\n",
      "After -  Counter({2: 2436, 1: 2436, 0: 2436})\n"
     ]
    }
   ],
   "source": [
    "# Lets try RandomOverSampling\n",
    "# Using SMOTE to deal with class imbalance.\n",
    "counter= Counter(yos_train)\n",
    "print('Before - ',counter)\n",
    "\n",
    "sm= SMOTE()\n",
    "\n",
    "Xos_train_sm, yos_train_sm = sm.fit_resample(Xos_train, yos_train)\n",
    "\n",
    "counter= Counter(yos_train_sm)\n",
    "print('After - ',counter)"
   ]
  },
  {
   "cell_type": "code",
   "execution_count": null,
   "id": "09b152d5",
   "metadata": {},
   "outputs": [],
   "source": []
  },
  {
   "cell_type": "code",
   "execution_count": 141,
   "id": "c4c29212",
   "metadata": {},
   "outputs": [
    {
     "name": "stdout",
     "output_type": "stream",
     "text": [
      "Training Accuracies after oversampling\n",
      "ACC : 0.9470443349753694\n",
      "              precision    recall  f1-score   support\n",
      "\n",
      "           0       0.97      0.96      0.96      2436\n",
      "           1       0.90      0.96      0.93      2436\n",
      "           2       0.98      0.92      0.95      2436\n",
      "\n",
      "    accuracy                           0.95      7308\n",
      "   macro avg       0.95      0.95      0.95      7308\n",
      "weighted avg       0.95      0.95      0.95      7308\n",
      "\n"
     ]
    }
   ],
   "source": [
    "logit = LogisticRegression(max_iter=400)\n",
    "logit.fit(Xos_train_sm,yos_train_sm)\n",
    "\n",
    "y_pred_train_sm= logit.predict(Xos_train_sm)\n",
    "\n",
    "print('Training Accuracies after oversampling')\n",
    "perf_report_lr_train = classification_report(yos_train_sm,y_pred_train_sm)\n",
    "print(F'ACC : {accuracy_score(yos_train_sm,y_pred_train_sm)}')\n",
    "print(perf_report_lr_train)\n",
    "\n"
   ]
  },
  {
   "attachments": {
    "image-3.png": {
     "image/png": "[encoded data removed]"
    }
   },
   "cell_type": "markdown",
   "id": "8a0e3520",
   "metadata": {},
   "source": [
    "#### Note above^^^ that the logistic regression model went from a nominal performance of this \n",
    "\n",
    "![image-3.png](attachment:image-3.png)\n",
    "\n",
    "#### ^^^ oversampling seems to have improved the model performance in the trianing phase"
   ]
  },
  {
   "cell_type": "markdown",
   "id": "99672c9b",
   "metadata": {},
   "source": [
    "### Run the test data against the model to evaluate performance with oversampling"
   ]
  },
  {
   "cell_type": "code",
   "execution_count": 140,
   "id": "3e4e0e9e",
   "metadata": {},
   "outputs": [
    {
     "name": "stdout",
     "output_type": "stream",
     "text": [
      "              precision    recall  f1-score   support\n",
      "\n",
      "           0       0.82      0.79      0.80       547\n",
      "           1       0.81      0.84      0.83       641\n",
      "           2       0.83      0.79      0.81       180\n",
      "\n",
      "    accuracy                           0.82      1368\n",
      "   macro avg       0.82      0.81      0.81      1368\n",
      "weighted avg       0.82      0.82      0.82      1368\n",
      "\n",
      "[[433  99  15]\n",
      " [ 86 541  14]\n",
      " [ 12  26 142]]\n",
      "True Negatives =  433\n",
      "False Negatives =  86\n",
      "True Positives =  541\n",
      "False Positives =  99\n"
     ]
    },
    {
     "data": {
      "image/png": "[encoded data removed]",
      "text/plain": [
       "<Figure size 640x480 with 2 Axes>"
      ]
     },
     "metadata": {},
     "output_type": "display_data"
    }
   ],
   "source": [
    "ysm_pred_test_logit = logit.predict(Xos_test)\n",
    "print(classification_report(yos_test, ysm_pred_test_logit))\n",
    "cm = confusion_matrix(yos_test, ysm_pred_test_logit, labels = logit.classes_)\n",
    "print(cm)\n",
    "print(\"True Negatives = \", cm[0][0])\n",
    "print(\"False Negatives = \", cm[1][0])\n",
    "print(\"True Positives = \", cm[1][1])\n",
    "print(\"False Positives = \", cm[0][1])      \n",
    "disp = ConfusionMatrixDisplay(confusion_matrix = cm, display_labels=logit.classes_)\n",
    "disp.plot()\n",
    "plt.show()\n",
    "\n",
    "\n",
    "\n",
    "\n"
   ]
  },
  {
   "cell_type": "markdown",
   "id": "1833a079",
   "metadata": {},
   "source": [
    "### One final test is to run the estimator with our dev split"
   ]
  },
  {
   "cell_type": "code",
   "execution_count": null,
   "id": "1eefa41c",
   "metadata": {},
   "outputs": [],
   "source": []
  },
  {
   "cell_type": "code",
   "execution_count": 134,
   "id": "d52641bc",
   "metadata": {},
   "outputs": [],
   "source": [
    "# #Split our data into features(X) and labels(y) and use Random Undersampling\n",
    "# X_rus = X_train\n",
    "# y_rus = y_train\n",
    "# # y_rus.value_counts()"
   ]
  },
  {
   "cell_type": "code",
   "execution_count": 135,
   "id": "e4c7351f",
   "metadata": {},
   "outputs": [],
   "source": [
    "# rus = RandomUnderSampler(sampling_strategy=\"majority\") # Numerical value# Numerical value\n",
    "# # rus = RandomUnderSampler(sampling_strategy=\"not minority\") # String\n",
    "# X_res, y_res = rus.fit_resample(X_rus, y_rus)\n",
    "# ax = y_res.value_counts().plot.pie(autopct='%.2f')\n",
    "# _ = ax.set_title(\"After under-sampling\")\n",
    "# print(y_res.value_counts())"
   ]
  },
  {
   "cell_type": "markdown",
   "id": "5f5133da",
   "metadata": {},
   "source": [
    "### 20230125 Meeting with Shir follow-ups\n",
    "\n",
    "- need to evaluate the ground truth based on model concurrence predictions\n",
    "- need to build models as above for Vonage data"
   ]
  },
  {
   "cell_type": "code",
   "execution_count": null,
   "id": "b376ec57",
   "metadata": {},
   "outputs": [],
   "source": []
  },
  {
   "cell_type": "code",
   "execution_count": null,
   "id": "e8cc1e2d",
   "metadata": {},
   "outputs": [],
   "source": []
  },
  {
   "cell_type": "code",
   "execution_count": null,
   "id": "79e767f2",
   "metadata": {},
   "outputs": [],
   "source": []
  }
 ],
 "metadata": {
  "kernelspec": {
   "display_name": "nlp_venv",
   "language": "python",
   "name": "nlp_venv"
  },
  "language_info": {
   "codemirror_mode": {
    "name": "ipython",
    "version": 3
   },
   "file_extension": ".py",
   "mimetype": "text/x-python",
   "name": "python",
   "nbconvert_exporter": "python",
   "pygments_lexer": "ipython3",
   "version": "3.11.2"
  }
 },
 "nbformat": 4,
 "nbformat_minor": 5
}
